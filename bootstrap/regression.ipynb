{
 "cells": [
  {
   "cell_type": "code",
   "execution_count": 1,
   "metadata": {
    "collapsed": true
   },
   "outputs": [],
   "source": [
    "#import modules\n",
    "import numpy as np\n",
    "import numpy.random as npr\n",
    "import scipy.stats as sps\n",
    "import scipy as sp\n",
    "import matplotlib.pyplot as plt\n",
    "%matplotlib inline\n",
    "import lm as lm \n",
    "import pandas as pd"
   ]
  },
  {
   "cell_type": "code",
   "execution_count": 2,
   "metadata": {
    "collapsed": true
   },
   "outputs": [],
   "source": [
    "#Setting up the parameters\n",
    "N = 1000 #sample size\n",
    "B = 500 #bootstrap sample size ie number of replication\n",
    "a = 1  #true interpcept\n",
    "b = 0.5 #true slope\n",
    "s = 0.4 #true variance"
   ]
  },
  {
   "cell_type": "code",
   "execution_count": 4,
   "metadata": {
    "collapsed": true
   },
   "outputs": [],
   "source": [
    "#simulating the data\n",
    "e = sps.norm.rvs(size=N,loc=0, scale=s) #simulating residual vector\n",
    "x = sps.norm.rvs(size=N,loc=2,scale=1) #simulating explanatory variable\n",
    "y = a+b*x+e #constructing dependent variable\n",
    "m = np.c_[y,x] #constructing dataset"
   ]
  },
  {
   "cell_type": "code",
   "execution_count": 5,
   "metadata": {
    "collapsed": true
   },
   "outputs": [],
   "source": [
    "#Getting the estimates from sample\n",
    "ols_main = lm.lm('y~c+x', data=m, header=['y','x']) #estimating linear regression based on simulated dataset\n",
    "ols_main.estimate()"
   ]
  },
  {
   "cell_type": "code",
   "execution_count": 6,
   "metadata": {
    "collapsed": false
   },
   "outputs": [
    {
     "name": "stdout",
     "output_type": "stream",
     "text": [
      "The regression output for the model y~c+x\n",
      "The number of observation is 1000\n",
      "The number of estimates is 2\n",
      "The dependent variable is y\n",
      "Variables\tCoefficients\tStd. Errors\tt-statistics\tp-values\n",
      "Intercept   \t   1.012\t 0.02795\t    36.2\t       0\n",
      "x           \t  0.4899\t 0.01246\t   39.31\t       0\n",
      "The R^2 is 0.607550239686\n",
      "The adjusted R^2 is 0.607157003453.\n",
      "The F test statistics is 1545.00066129 with p value 1.11022302463e-16.\n"
     ]
    }
   ],
   "source": [
    "ols_main.summary()"
   ]
  },
  {
   "cell_type": "code",
   "execution_count": 7,
   "metadata": {
    "collapsed": true
   },
   "outputs": [],
   "source": [
    "#Setting things up for bootstraping \n",
    "coef = np.zeros((B,2)) #initiate vector to store bootstrapped coefficient estiamtes. "
   ]
  },
  {
   "cell_type": "code",
   "execution_count": 8,
   "metadata": {
    "collapsed": true
   },
   "outputs": [],
   "source": [
    "#A bootstrap procedures for the intercept the slope coefficients\n",
    "#Estimate the intercept and slope coefficients for each bootstrap sample. \n",
    "for j in range(0,B):\n",
    "    index = npr.choice(range(0,N), size=N, replace=True) #construct index set for bootstrap sample. \n",
    "    bootsample = m[list(index)] #extract bootstrap sample. \n",
    "    ols_temp = lm.lm('y~c+x', data=bootsample, header=['y','x']) #estimate regression based on bootstrap sample\n",
    "    ols_temp.estimate()\n",
    "    coef[j] = ols_temp.coef.reshape((1,2)) #store bootstrap estimate"
   ]
  },
  {
   "cell_type": "code",
   "execution_count": 12,
   "metadata": {
    "collapsed": false
   },
   "outputs": [
    {
     "data": {
      "text/plain": [
       "<matplotlib.text.Text at 0x10cc14a50>"
      ]
     },
     "execution_count": 12,
     "metadata": {},
     "output_type": "execute_result"
    },
    {
     "data": {
      "image/png": "[encoded data removed]",
      "text/plain": [
       "<matplotlib.figure.Figure at 0x10c1c95d0>"
      ]
     },
     "metadata": {},
     "output_type": "display_data"
    }
   ],
   "source": [
    "#Plot the bootstrap estimates\n",
    "plt.hist(coef[:,0])\n",
    "plt.title('Bootstrap Estimates of the Intercept')"
   ]
  },
  {
   "cell_type": "code",
   "execution_count": 13,
   "metadata": {
    "collapsed": false
   },
   "outputs": [
    {
     "data": {
      "text/plain": [
       "<matplotlib.text.Text at 0x10ccf3e10>"
      ]
     },
     "execution_count": 13,
     "metadata": {},
     "output_type": "execute_result"
    },
    {
     "data": {
      "image/png": "[encoded data removed]",
      "text/plain": [
       "<matplotlib.figure.Figure at 0x10cc01110>"
      ]
     },
     "metadata": {},
     "output_type": "display_data"
    }
   ],
   "source": [
    "plt.hist(coef[:,1])\n",
    "plt.title('Bootstrap Estimates of the Slope')"
   ]
  },
  {
   "cell_type": "code",
   "execution_count": 14,
   "metadata": {
    "collapsed": true
   },
   "outputs": [],
   "source": [
    "#Calculate the variance-covariance matrix\n",
    "tempx = np.c_[np.ones(N), x]\n",
    "cov = np.power(s,2)*np.linalg.inv(np.dot(tempx.transpose(), tempx))\n",
    "truecov = np.diag(cov) #ture variance of the estimate. "
   ]
  },
  {
   "cell_type": "code",
   "execution_count": 16,
   "metadata": {
    "collapsed": false
   },
   "outputs": [
    {
     "data": {
      "text/plain": [
       "array([[ 0.00084551, -0.00033945],\n",
       "       [-0.00033945,  0.00016809]])"
      ]
     },
     "execution_count": 16,
     "metadata": {},
     "output_type": "execute_result"
    }
   ],
   "source": [
    "cov"
   ]
  },
  {
   "cell_type": "code",
   "execution_count": 17,
   "metadata": {
    "collapsed": false
   },
   "outputs": [
    {
     "data": {
      "text/plain": [
       "array([ 0.00084551,  0.00016809])"
      ]
     },
     "execution_count": 17,
     "metadata": {},
     "output_type": "execute_result"
    }
   ],
   "source": [
    "truecov"
   ]
  },
  {
   "cell_type": "code",
   "execution_count": 18,
   "metadata": {
    "collapsed": false
   },
   "outputs": [
    {
     "name": "stdout",
     "output_type": "stream",
     "text": [
      "       Theoretical  Sample Estimate  Bootstrap Estiamte\n",
      "a         1.000000         1.011954            1.013245\n",
      "b         0.500000         0.489860            0.489490\n",
      "var a     0.000846         0.000781            0.000810\n",
      "var b     0.000168         0.000155            0.000167\n"
     ]
    }
   ],
   "source": [
    "#Put the result together in Pandas for pretty printing.\n",
    "summary = np.c_[truecov.reshape((2,1)), np.diag(ols_main.cov).reshape((2,1)), np.array([sps.tvar(coef[:,i]) for i in range(0,2)]).reshape((2,1))]\n",
    "summary = np.r_[np.c_[np.r_[a,b], ols_main.coef.reshape((2,1)), np.array([sps.tmean(coef[:,i]) for i in range(0,2)]).reshape((2,1))], summary]\n",
    "header = ['Theoretical', 'Sample Estimate', 'Bootstrap Estiamte']\n",
    "labelx = ['a','b','var a', 'var b']\n",
    "result = pd.DataFrame(summary, columns=header, index = labelx)\n",
    "print(result)"
   ]
  },
  {
   "cell_type": "code",
   "execution_count": null,
   "metadata": {
    "collapsed": true
   },
   "outputs": [],
   "source": []
  }
 ],
 "metadata": {
  "kernelspec": {
   "display_name": "Python 2",
   "language": "python",
   "name": "python2"
  },
  "language_info": {
   "codemirror_mode": {
    "name": "ipython",
    "version": 2
   },
   "file_extension": ".py",
   "mimetype": "text/x-python",
   "name": "python",
   "nbconvert_exporter": "python",
   "pygments_lexer": "ipython2",
   "version": "2.7.10"
  }
 },
 "nbformat": 4,
 "nbformat_minor": 0
}
