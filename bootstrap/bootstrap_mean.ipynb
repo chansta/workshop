{
 "cells": [
  {
   "cell_type": "code",
   "execution_count": 1,
   "metadata": {
    "collapsed": true
   },
   "outputs": [],
   "source": [
    "#importing modules\n",
    "import numpy as np\n",
    "import numpy.random as npr\n",
    "import scipy.stats as sps\n",
    "import scipy as sp\n",
    "import matplotlib.pyplot as plt\n",
    "%matplotlib inline\n",
    "import pandas as pd"
   ]
  },
  {
   "cell_type": "code",
   "execution_count": 23,
   "metadata": {
    "collapsed": true
   },
   "outputs": [],
   "source": [
    "#Setting up basic parameters for bootstrap\n",
    "N = 1000 #Initial sample size\n",
    "B = 500 #number of bootstrap sample ie replication. \n",
    "m = 3 #True mean of the data\n",
    "s = 2 #True standard deviation of the data. "
   ]
  },
  {
   "cell_type": "code",
   "execution_count": 3,
   "metadata": {
    "collapsed": true
   },
   "outputs": [],
   "source": [
    "data = sps.norm.rvs(size=N, loc=m, scale=s) #generating the random sample from normality. "
   ]
  },
  {
   "cell_type": "code",
   "execution_count": 4,
   "metadata": {
    "collapsed": true
   },
   "outputs": [],
   "source": [
    "mhat = sps.tmean(data) #calculate sample mean estimate. \n",
    "shat2 = sps.tvar(data) #calcualte sample variance estimate. "
   ]
  },
  {
   "cell_type": "code",
   "execution_count": 5,
   "metadata": {
    "collapsed": false
   },
   "outputs": [
    {
     "name": "stdout",
     "output_type": "stream",
     "text": [
      "(3.0580854569106521, 3.9379170528756577)\n"
     ]
    }
   ],
   "source": [
    "print(mhat,shat2)"
   ]
  },
  {
   "cell_type": "code",
   "execution_count": 6,
   "metadata": {
    "collapsed": true
   },
   "outputs": [],
   "source": [
    "bootsample = [npr.choice(data,size=N,replace=True) for i in range(0,B)] #generate B bootstrap samples. "
   ]
  },
  {
   "cell_type": "code",
   "execution_count": 9,
   "metadata": {
    "collapsed": false
   },
   "outputs": [
    {
     "data": {
      "text/plain": [
       "(500, 1000)"
      ]
     },
     "execution_count": 9,
     "metadata": {},
     "output_type": "execute_result"
    }
   ],
   "source": [
    "np.array(bootsample).shape"
   ]
  },
  {
   "cell_type": "code",
   "execution_count": 22,
   "metadata": {
    "collapsed": false
   },
   "outputs": [],
   "source": [
    "bootmean = [sps.tmean(j) for j in bootsample] #calcualte the mean of each bootstrap sample."
   ]
  },
  {
   "cell_type": "code",
   "execution_count": 14,
   "metadata": {
    "collapsed": false
   },
   "outputs": [
    {
     "data": {
      "text/plain": [
       "(array([  4.,   1.,   0.,   2.,   2.,   1.,   7.,   7.,   9.,   7.,   9.,\n",
       "         10.,  18.,   9.,  18.,   5.,  30.,  22.,  30.,  15.,  20.,  28.,\n",
       "         29.,  20.,  19.,  19.,  28.,  13.,  20.,  13.,  15.,  11.,  14.,\n",
       "         13.,   5.,   1.,   9.,   5.,   4.,   1.,   2.,   2.,   2.,   0.,\n",
       "          0.,   0.,   0.,   0.,   0.,   1.]),\n",
       " array([ 2.89259713,  2.9001688 ,  2.90774048,  2.91531216,  2.92288384,\n",
       "         2.93045551,  2.93802719,  2.94559887,  2.95317055,  2.96074222,\n",
       "         2.9683139 ,  2.97588558,  2.98345726,  2.99102893,  2.99860061,\n",
       "         3.00617229,  3.01374397,  3.02131565,  3.02888732,  3.036459  ,\n",
       "         3.04403068,  3.05160236,  3.05917403,  3.06674571,  3.07431739,\n",
       "         3.08188907,  3.08946074,  3.09703242,  3.1046041 ,  3.11217578,\n",
       "         3.11974745,  3.12731913,  3.13489081,  3.14246249,  3.15003416,\n",
       "         3.15760584,  3.16517752,  3.1727492 ,  3.18032087,  3.18789255,\n",
       "         3.19546423,  3.20303591,  3.21060758,  3.21817926,  3.22575094,\n",
       "         3.23332262,  3.24089429,  3.24846597,  3.25603765,  3.26360933,\n",
       "         3.271181  ]),\n",
       " <a list of 50 Patch objects>)"
      ]
     },
     "execution_count": 14,
     "metadata": {},
     "output_type": "execute_result"
    },
    {
     "data": {
      "image/png": "[encoded data removed]",
      "text/plain": [
       "<matplotlib.figure.Figure at 0x10c884090>"
      ]
     },
     "metadata": {},
     "output_type": "display_data"
    }
   ],
   "source": [
    "plt.hist(bootmean,bins=int(B/10))"
   ]
  },
  {
   "cell_type": "code",
   "execution_count": 25,
   "metadata": {
    "collapsed": false
   },
   "outputs": [
    {
     "name": "stdout",
     "output_type": "stream",
     "text": [
      "           True  Estimated  Bootstrap\n",
      "mean      3.000   3.058085   3.058301\n",
      "variance  0.004   0.003938   0.003927\n"
     ]
    }
   ],
   "source": [
    "#putting the result into a Pandas dataframe for pretty printing\n",
    "columns = ['True', 'Estimated', 'Bootstrap']\n",
    "index = ['mean', 'variance']\n",
    "result = [[m,mhat,sps.tmean(bootmean)], [np.power(s,2)/float(N), shat2/N, sps.tvar(bootmean)]]\n",
    "result = np.array(result)\n",
    "resultpd = pd.DataFrame(result, columns=columns, index=index)\n",
    "print(resultpd)"
   ]
  },
  {
   "cell_type": "code",
   "execution_count": null,
   "metadata": {
    "collapsed": true
   },
   "outputs": [],
   "source": []
  }
 ],
 "metadata": {
  "kernelspec": {
   "display_name": "Python 2",
   "language": "python",
   "name": "python2"
  },
  "language_info": {
   "codemirror_mode": {
    "name": "ipython",
    "version": 2
   },
   "file_extension": ".py",
   "mimetype": "text/x-python",
   "name": "python",
   "nbconvert_exporter": "python",
   "pygments_lexer": "ipython2",
   "version": "2.7.10"
  }
 },
 "nbformat": 4,
 "nbformat_minor": 0
}
