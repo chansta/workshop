{
 "cells": [
  {
   "cell_type": "code",
   "execution_count": 4,
   "metadata": {
    "collapsed": false
   },
   "outputs": [],
   "source": [
    "#import modules\n",
    "import numpy as np\n",
    "import numpy.random as npr\n",
    "import scipy.stats as sps\n",
    "import scipy as sp\n",
    "import matplotlib.pyplot as plt\n",
    "%matplotlib inline\n",
    "import pandas as pd\n",
    "import statsmodels.formula.api as smi "
   ]
  },
  {
   "cell_type": "code",
   "execution_count": 5,
   "metadata": {
    "collapsed": true
   },
   "outputs": [],
   "source": [
    "#Setting the Parameters\n",
    "N = 1000 #sample size\n",
    "B = 1500 #bootstrap sample size ie number of replication\n",
    "a = 1  #true interpcept\n",
    "b = 0.5 #true slope\n",
    "s = 0.4 #true standard deviation"
   ]
  },
  {
   "cell_type": "code",
   "execution_count": 6,
   "metadata": {
    "collapsed": true
   },
   "outputs": [],
   "source": [
    "#Simulate the Data\n",
    "e = sps.norm.rvs(size=N,loc=0, scale=s) #simulating residual vector\n",
    "x = sps.norm.rvs(size=N,loc=2,scale=1) #simulating explanatory variable\n",
    "y = a+b*x+e #constructing dependent variable\n",
    "m = pd.DataFrame(np.c_[y,x], columns=['y','x']) #constructing dataset"
   ]
  },
  {
   "cell_type": "code",
   "execution_count": 7,
   "metadata": {
    "collapsed": false
   },
   "outputs": [
    {
     "data": {
      "text/html": [
       "<table class=\"simpletable\">\n",
       "<caption>OLS Regression Results</caption>\n",
       "<tr>\n",
       "  <th>Dep. Variable:</th>            <td>y</td>        <th>  R-squared:         </th> <td>   0.651</td> \n",
       "</tr>\n",
       "<tr>\n",
       "  <th>Model:</th>                   <td>OLS</td>       <th>  Adj. R-squared:    </th> <td>   0.650</td> \n",
       "</tr>\n",
       "<tr>\n",
       "  <th>Method:</th>             <td>Least Squares</td>  <th>  F-statistic:       </th> <td>   1859.</td> \n",
       "</tr>\n",
       "<tr>\n",
       "  <th>Date:</th>             <td>Wed, 20 Jul 2016</td> <th>  Prob (F-statistic):</th> <td>3.71e-230</td>\n",
       "</tr>\n",
       "<tr>\n",
       "  <th>Time:</th>                 <td>22:18:25</td>     <th>  Log-Likelihood:    </th> <td> -460.59</td> \n",
       "</tr>\n",
       "<tr>\n",
       "  <th>No. Observations:</th>      <td>  1000</td>      <th>  AIC:               </th> <td>   925.2</td> \n",
       "</tr>\n",
       "<tr>\n",
       "  <th>Df Residuals:</th>          <td>   998</td>      <th>  BIC:               </th> <td>   935.0</td> \n",
       "</tr>\n",
       "<tr>\n",
       "  <th>Df Model:</th>              <td>     1</td>      <th>                     </th>     <td> </td>    \n",
       "</tr>\n",
       "<tr>\n",
       "  <th>Covariance Type:</th>      <td>nonrobust</td>    <th>                     </th>     <td> </td>    \n",
       "</tr>\n",
       "</table>\n",
       "<table class=\"simpletable\">\n",
       "<tr>\n",
       "      <td></td>         <th>coef</th>     <th>std err</th>      <th>t</th>      <th>P>|t|</th> <th>[95.0% Conf. Int.]</th> \n",
       "</tr>\n",
       "<tr>\n",
       "  <th>Intercept</th> <td>    0.9841</td> <td>    0.026</td> <td>   37.455</td> <td> 0.000</td> <td>    0.933     1.036</td>\n",
       "</tr>\n",
       "<tr>\n",
       "  <th>x</th>         <td>    0.5046</td> <td>    0.012</td> <td>   43.115</td> <td> 0.000</td> <td>    0.482     0.528</td>\n",
       "</tr>\n",
       "</table>\n",
       "<table class=\"simpletable\">\n",
       "<tr>\n",
       "  <th>Omnibus:</th>       <td> 1.455</td> <th>  Durbin-Watson:     </th> <td>   1.847</td>\n",
       "</tr>\n",
       "<tr>\n",
       "  <th>Prob(Omnibus):</th> <td> 0.483</td> <th>  Jarque-Bera (JB):  </th> <td>   1.517</td>\n",
       "</tr>\n",
       "<tr>\n",
       "  <th>Skew:</th>          <td> 0.067</td> <th>  Prob(JB):          </th> <td>   0.468</td>\n",
       "</tr>\n",
       "<tr>\n",
       "  <th>Kurtosis:</th>      <td> 2.864</td> <th>  Cond. No.          </th> <td>    5.64</td>\n",
       "</tr>\n",
       "</table>"
      ],
      "text/plain": [
       "<class 'statsmodels.iolib.summary.Summary'>\n",
       "\"\"\"\n",
       "                            OLS Regression Results                            \n",
       "==============================================================================\n",
       "Dep. Variable:                      y   R-squared:                       0.651\n",
       "Model:                            OLS   Adj. R-squared:                  0.650\n",
       "Method:                 Least Squares   F-statistic:                     1859.\n",
       "Date:                Wed, 20 Jul 2016   Prob (F-statistic):          3.71e-230\n",
       "Time:                        22:18:25   Log-Likelihood:                -460.59\n",
       "No. Observations:                1000   AIC:                             925.2\n",
       "Df Residuals:                     998   BIC:                             935.0\n",
       "Df Model:                           1                                         \n",
       "Covariance Type:            nonrobust                                         \n",
       "==============================================================================\n",
       "                 coef    std err          t      P>|t|      [95.0% Conf. Int.]\n",
       "------------------------------------------------------------------------------\n",
       "Intercept      0.9841      0.026     37.455      0.000         0.933     1.036\n",
       "x              0.5046      0.012     43.115      0.000         0.482     0.528\n",
       "==============================================================================\n",
       "Omnibus:                        1.455   Durbin-Watson:                   1.847\n",
       "Prob(Omnibus):                  0.483   Jarque-Bera (JB):                1.517\n",
       "Skew:                           0.067   Prob(JB):                        0.468\n",
       "Kurtosis:                       2.864   Cond. No.                         5.64\n",
       "==============================================================================\n",
       "\n",
       "Warnings:\n",
       "[1] Standard Errors assume that the covariance matrix of the errors is correctly specified.\n",
       "\"\"\""
      ]
     },
     "execution_count": 7,
     "metadata": {},
     "output_type": "execute_result"
    }
   ],
   "source": [
    "#Estimate the parameters using statsmodels\n",
    "ols_main = smi.ols('y~1+x', data=m).fit() #estimating linear regression based on simulated dataset\n",
    "ols_main.summary()"
   ]
  },
  {
   "cell_type": "code",
   "execution_count": 8,
   "metadata": {
    "collapsed": true
   },
   "outputs": [],
   "source": [
    "#setting things up for boostrap\n",
    "coef = np.zeros((B,2)) #initiate vector to store bootstrapped coefficient estiamtes. "
   ]
  },
  {
   "cell_type": "code",
   "execution_count": 9,
   "metadata": {
    "collapsed": true
   },
   "outputs": [],
   "source": [
    "#A bootstrap procedure\n",
    "#Construct the bootstrap sample then estimate the parameter vector. \n",
    "for j in range(0,B):\n",
    "    index = npr.choice(range(0,N), size=N, replace=True) #construct index set for bootstrap sample. \n",
    "    bootsample = m.iloc[list(index), :] #extract bootstrap sample. \n",
    "    ols_temp = smi.ols('y~1+x', data=bootsample).fit() #estimate regression based on bootstrap sample\n",
    "    coef[j] = ols_temp.params.reshape((1,2)) #store bootstrap estimate"
   ]
  },
  {
   "cell_type": "code",
   "execution_count": 10,
   "metadata": {
    "collapsed": false
   },
   "outputs": [
    {
     "data": {
      "text/plain": [
       "<matplotlib.text.Text at 0x10cb6ded0>"
      ]
     },
     "execution_count": 10,
     "metadata": {},
     "output_type": "execute_result"
    },
    {
     "data": {
      "image/png": "[encoded data removed]",
      "text/plain": [
       "<matplotlib.figure.Figure at 0x10ca2ce50>"
      ]
     },
     "metadata": {},
     "output_type": "display_data"
    }
   ],
   "source": [
    "plt.hist(coef[:,0])\n",
    "plt.title(\"Bootstrapped Estimates of Intercept\")"
   ]
  },
  {
   "cell_type": "code",
   "execution_count": 11,
   "metadata": {
    "collapsed": false
   },
   "outputs": [
    {
     "data": {
      "text/plain": [
       "<matplotlib.text.Text at 0x10ccf6390>"
      ]
     },
     "execution_count": 11,
     "metadata": {},
     "output_type": "execute_result"
    },
    {
     "data": {
      "image/png": "[encoded data removed]",
      "text/plain": [
       "<matplotlib.figure.Figure at 0x10cc2f490>"
      ]
     },
     "metadata": {},
     "output_type": "display_data"
    }
   ],
   "source": [
    "plt.hist(coef[:,1])\n",
    "plt.title(\"Bootstrapped Estimates of Slope\")"
   ]
  },
  {
   "cell_type": "code",
   "execution_count": 12,
   "metadata": {
    "collapsed": true
   },
   "outputs": [],
   "source": [
    "#Calculate the variance-covariance matrix\n",
    "tempx = np.c_[np.ones(N), x]\n",
    "cov = np.power(s,2)*np.linalg.inv(np.dot(tempx.transpose(), tempx))\n",
    "truecov = np.diag(cov)"
   ]
  },
  {
   "cell_type": "code",
   "execution_count": 13,
   "metadata": {
    "collapsed": false
   },
   "outputs": [
    {
     "data": {
      "text/plain": [
       "array([[ 0.00074935, -0.00029604],\n",
       "       [-0.00029604,  0.0001487 ]])"
      ]
     },
     "execution_count": 13,
     "metadata": {},
     "output_type": "execute_result"
    }
   ],
   "source": [
    "cov"
   ]
  },
  {
   "cell_type": "code",
   "execution_count": 14,
   "metadata": {
    "collapsed": false
   },
   "outputs": [
    {
     "data": {
      "text/plain": [
       "array([ 0.00074935,  0.0001487 ])"
      ]
     },
     "execution_count": 14,
     "metadata": {},
     "output_type": "execute_result"
    }
   ],
   "source": [
    "truecov"
   ]
  },
  {
   "cell_type": "code",
   "execution_count": 15,
   "metadata": {
    "collapsed": false
   },
   "outputs": [
    {
     "name": "stdout",
     "output_type": "stream",
     "text": [
      "       Theoretical  Sample Estimate  Bootstrap Estiamte\n",
      "a         1.000000         0.984073            0.985296\n",
      "b         0.500000         0.504618            0.504207\n",
      "var a     0.000749         0.000690            0.000653\n",
      "var b     0.000149         0.000137            0.000131\n"
     ]
    }
   ],
   "source": [
    "#Putting the result into Pandas for pretty printing\n",
    "summary = np.c_[truecov.reshape((2,1)), np.diag(ols_main.cov_params()).reshape((2,1)), np.array([sps.tvar(coef[:,i]) for i in range(0,2)]).reshape((2,1))]\n",
    "summary = np.r_[np.c_[np.r_[a,b], ols_main.params.reshape((2,1)), np.array([sps.tmean(coef[:,i]) for i in range(0,2)]).reshape((2,1))], summary]\n",
    "header = ['Theoretical', 'Sample Estimate', 'Bootstrap Estiamte']\n",
    "labelx = ['a','b','var a', 'var b']\n",
    "result = pd.DataFrame(summary, columns=header, index=labelx)\n",
    "print(result)"
   ]
  },
  {
   "cell_type": "code",
   "execution_count": null,
   "metadata": {
    "collapsed": true
   },
   "outputs": [],
   "source": []
  }
 ],
 "metadata": {
  "kernelspec": {
   "display_name": "Python 2",
   "language": "python",
   "name": "python2"
  },
  "language_info": {
   "codemirror_mode": {
    "name": "ipython",
    "version": 2
   },
   "file_extension": ".py",
   "mimetype": "text/x-python",
   "name": "python",
   "nbconvert_exporter": "python",
   "pygments_lexer": "ipython2",
   "version": "2.7.10"
  }
 },
 "nbformat": 4,
 "nbformat_minor": 0
}
