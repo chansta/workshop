{
 "cells": [
  {
   "cell_type": "markdown",
   "metadata": {},
   "source": [
    "Five Elements in Learning a Programming Language\n",
    "===============\n",
    "This notebook uses Python as an example to demonstrate the learning of five basic elements in any languages. Once familar with these elements, users should be able to start using the language in a meaningful way. The five elements are \n",
    "    1. Data types and their operations\n",
    "    2. Conditional Statement (decision rules)\n",
    "    3. Loop (repetition)\n",
    "    4. Input/Output (I/O)\n",
    "    5. Users defined functions (breaking large code into smaller pieces)\n",
    "The idea here is not to learn *everything* about the language, but learn enough so that it can be productive for you. \n"
   ]
  },
  {
   "cell_type": "markdown",
   "metadata": {},
   "source": [
    "Data Types and their Operations\n",
    "------------\n",
    "Most languages usually defined different data types, for example, numerics vs. characters. While the reasons behind this classification are at the core of the language design, from a user perspective, we need to understand the different data types so we can operate on them in a meaningful way.\n",
    "\n",
    "For examples:"
   ]
  },
  {
   "cell_type": "code",
   "execution_count": 1,
   "metadata": {
    "collapsed": false
   },
   "outputs": [
    {
     "data": {
      "text/plain": [
       "11"
      ]
     },
     "execution_count": 1,
     "metadata": {},
     "output_type": "execute_result"
    }
   ],
   "source": [
    "5+6"
   ]
  },
  {
   "cell_type": "markdown",
   "metadata": {},
   "source": [
    "The statement above demonstrates the operator '$+$' between two *numbers* and together it produces the sum operation between the first and the second numbers. The case below demonstrates a different use of the operator '$+$'. In this case, the operator is being applied to two *characters*"
   ]
  },
  {
   "cell_type": "code",
   "execution_count": 2,
   "metadata": {
    "collapsed": false
   },
   "outputs": [
    {
     "data": {
      "text/plain": [
       "'ab'"
      ]
     },
     "execution_count": 2,
     "metadata": {},
     "output_type": "execute_result"
    }
   ],
   "source": [
    "'a'+'b'"
   ]
  },
  {
   "cell_type": "markdown",
   "metadata": {},
   "source": [
    "This produces a *concatenation* between two characters, namely 'a' and 'b'. Another example concerns with *lists*"
   ]
  },
  {
   "cell_type": "code",
   "execution_count": 3,
   "metadata": {
    "collapsed": false
   },
   "outputs": [
    {
     "data": {
      "text/plain": [
       "[1, 2, 3, 4, 2, 3, 4, 5]"
      ]
     },
     "execution_count": 3,
     "metadata": {},
     "output_type": "execute_result"
    }
   ],
   "source": [
    "A = [1,2,3,4]\n",
    "B = [2,3,4,5]\n",
    "A+B "
   ]
  },
  {
   "cell_type": "markdown",
   "metadata": {},
   "source": [
    "Note that the '$+$' does not add the individual elements together, but rather, it joined the two lists together. "
   ]
  },
  {
   "cell_type": "markdown",
   "metadata": {},
   "source": [
    "It is often possible to introduce more data types. For example, the module *numpy* introduce data types like *vector* and *matrix*. It is often possible to **convert** data types. See an example below. "
   ]
  },
  {
   "cell_type": "code",
   "execution_count": 4,
   "metadata": {
    "collapsed": false
   },
   "outputs": [
    {
     "data": {
      "text/plain": [
       "array([3, 5, 7, 9])"
      ]
     },
     "execution_count": 4,
     "metadata": {},
     "output_type": "execute_result"
    }
   ],
   "source": [
    "import numpy as np\n",
    "NA = np.array(A)\n",
    "NB = np.array(B)\n",
    "NA + NB"
   ]
  },
  {
   "cell_type": "markdown",
   "metadata": {},
   "source": [
    "The *np.array* function converts the list into a numpy array. This is a different data type, similar to a *vector*. The point is that when we apply the sum operator between two numpy arrays, the result adds the individual elements together an form a new numpy array. \n",
    "\n",
    "This highlights the importance of understanding the different data types of a langauge as well as their associated operations. \n",
    "\n",
    "The example below demonstrates that a *string* is just a list (collection) of characters. "
   ]
  },
  {
   "cell_type": "code",
   "execution_count": 5,
   "metadata": {
    "collapsed": true
   },
   "outputs": [],
   "source": [
    "S = 'Hello World' #define a string called 'S' and has a value 'Hello World'\n",
    "Slist = list(S) #'convert' S into a list of its characters. "
   ]
  },
  {
   "cell_type": "code",
   "execution_count": 9,
   "metadata": {
    "collapsed": false
   },
   "outputs": [
    {
     "name": "stdout",
     "output_type": "stream",
     "text": [
      " \n"
     ]
    }
   ],
   "source": [
    "S[0] == Slist[0] #asking Python if the first element in the string S is the same as the first element in Slist\n",
    "print(S[5])"
   ]
  },
  {
   "cell_type": "markdown",
   "metadata": {},
   "source": [
    "To save time, we can check the above more efficiently by "
   ]
  },
  {
   "cell_type": "code",
   "execution_count": 11,
   "metadata": {
    "collapsed": false
   },
   "outputs": [
    {
     "data": {
      "text/plain": [
       "True"
      ]
     },
     "execution_count": 11,
     "metadata": {},
     "output_type": "execute_result"
    }
   ],
   "source": [
    "i = 5\n",
    "S[i] == Slist[i] #asking Python if the i element in the string S is the same as the i element in Slist with i defined above"
   ]
  },
  {
   "cell_type": "markdown",
   "metadata": {},
   "source": [
    "Obviously we can use the function 'map' or list comprehension to make this easier but we will leave this until later. "
   ]
  },
  {
   "cell_type": "markdown",
   "metadata": {},
   "source": [
    "Conditional Statements\n",
    "--------\n",
    "The last example demonstrates a *boolean* type operation, specifically it asks Python to determine if something is true or false. We can extend this to tell Python what to do next in advanced depending on the outcome of a boolean statement. This is generally referred to as *conditional statement*. \n",
    "\n",
    "The example below demonstrates a typical 'if-elseif-else' structure. "
   ]
  },
  {
   "cell_type": "code",
   "execution_count": 14,
   "metadata": {
    "collapsed": false
   },
   "outputs": [
    {
     "name": "stdout",
     "output_type": "stream",
     "text": [
      "Hanging out?\n"
     ]
    }
   ],
   "source": [
    "a = 'go away'\n",
    "if a is 'Welcome':\n",
    "    print('Hello')\n",
    "elif a is 'Bye':\n",
    "    print('See ya!')\n",
    "else:\n",
    "    print('Hanging out?')"
   ]
  },
  {
   "cell_type": "markdown",
   "metadata": {},
   "source": [
    "Note that there can be multiple number of scenarios. "
   ]
  },
  {
   "cell_type": "code",
   "execution_count": 9,
   "metadata": {
    "collapsed": false
   },
   "outputs": [
    {
     "name": "stdout",
     "output_type": "stream",
     "text": [
      "Hello\n"
     ]
    }
   ],
   "source": [
    "if a is 'Welcome':\n",
    "    print('Hello')\n",
    "elif a is 'Bye':\n",
    "    print('See ya!')\n",
    "elif a is 'hungry':\n",
    "    print('Would you like something to eat?')\n",
    "else:\n",
    "    print('Hanging out?')"
   ]
  },
  {
   "cell_type": "markdown",
   "metadata": {},
   "source": [
    "Loop\n",
    "------\n",
    "Loop is one of the most powerful concepts in programming and automation. It takes advantage on what computers do best, repetition! There are two general loop structures. The for-loop and while-loop. Let's look at for-loop first. \n",
    "\n",
    "Let's say we want to count the number of characters in a string. We can do this by using the **len** function in Python. "
   ]
  },
  {
   "cell_type": "code",
   "execution_count": 15,
   "metadata": {
    "collapsed": false
   },
   "outputs": [
    {
     "data": {
      "text/plain": [
       "11"
      ]
     },
     "execution_count": 15,
     "metadata": {},
     "output_type": "execute_result"
    }
   ],
   "source": [
    "sentence = 'Hello World'\n",
    "len(sentence)"
   ]
  },
  {
   "cell_type": "markdown",
   "metadata": {},
   "source": [
    "Note that the white space is counted as one character. Computers does not understand space. It uses special character for space. \n",
    "\n",
    "An alternative to achieve this is to go through the sentence and count the number of character one by one"
   ]
  },
  {
   "cell_type": "code",
   "execution_count": 18,
   "metadata": {
    "collapsed": false
   },
   "outputs": [
    {
     "name": "stdout",
     "output_type": "stream",
     "text": [
      "Character H and count 1\n",
      "Character e and count 2\n",
      "Character l and count 3\n",
      "Character l and count 4\n",
      "Character o and count 5\n",
      "Character   and count 6\n",
      "Character W and count 7\n",
      "Character o and count 8\n",
      "Character r and count 9\n",
      "Character l and count 10\n",
      "Character d and count 11\n",
      "The total number of characters is 11\n"
     ]
    }
   ],
   "source": [
    "i = 0 #initiate a variable to count. \n",
    "for c in sentence: #go through each character in the string 'sentence'\n",
    "    i = i + 1 #add 1 to the counter \n",
    "    print('Character {0} and count {1}'.format(c,i)) #print the current value of 'c'\n",
    "print('The total number of characters is {0}'.format(i))"
   ]
  },
  {
   "cell_type": "markdown",
   "metadata": {},
   "source": [
    "The code above can be explained as follows. For each element (character) in the variable *sentence*, we will assign the value of the element into the variable 'c', then we will execute the indented part of the code. Upon finishing the indented code, we then go back to the beginning of the for-loop and change the value of 'c' to the next character in 'sentnece'. We keep doing this until we arrive at the last charcater in 'sentnece'. \n",
    "\n",
    "The power loop can be enhanced when we combine it with a conditional statement. For example, we can now count the number of character, excluding white space. "
   ]
  },
  {
   "cell_type": "code",
   "execution_count": 12,
   "metadata": {
    "collapsed": false
   },
   "outputs": [
    {
     "name": "stdout",
     "output_type": "stream",
     "text": [
      "H\n",
      "e\n",
      "l\n",
      "l\n",
      "o\n",
      "W\n",
      "o\n",
      "r\n",
      "l\n",
      "d\n",
      "The total number of characters is 10\n"
     ]
    }
   ],
   "source": [
    "i = 0 #initiate a variable to count. \n",
    "for c in sentence: #go through each character in the string 'sentence'\n",
    "    if c is not ' ': # check if c is a white space. \n",
    "        print(c)\n",
    "        i = i + 1 #add 1 to the counter \n",
    "print('The total number of characters is {0}'.format(i))"
   ]
  },
  {
   "cell_type": "markdown",
   "metadata": {},
   "source": [
    "Another form of loop is the *while* loop. It repears the same operations until a certain condiiton is satisfied. To demonstrate, we repeat our example above using the *while* loop. "
   ]
  },
  {
   "cell_type": "code",
   "execution_count": 19,
   "metadata": {
    "collapsed": false
   },
   "outputs": [
    {
     "name": "stdout",
     "output_type": "stream",
     "text": [
      "H\n",
      "e\n",
      "l\n",
      "l\n",
      "o\n",
      "W\n",
      "o\n",
      "r\n",
      "l\n",
      "d\n",
      "The total number of characters is 11\n"
     ]
    }
   ],
   "source": [
    "length = len(sentence) #get the total length of the string. \n",
    "i = 0 #initiate a counter. \n",
    "while i < length:\n",
    "    c = sentence[i] #examine the ith element in the sentence. \n",
    "    if c is not ' ':\n",
    "        print(c)\n",
    "    i = i + 1 \n",
    "print('The total number of characters is {0}'.format(i))"
   ]
  },
  {
   "cell_type": "markdown",
   "metadata": {},
   "source": [
    "A More Practical Example\n",
    "----------\n",
    "We will demonstrate loop and conditional statement with a more practical example. \n",
    "Let's assume you want to examine how each additional variable may contribute to the $R^2$ of a linear regression model. We can try the following:\n",
    "    1. Estiamte the benchmark model. \n",
    "    2. Record $R^2$. \n",
    "    3. Add a variable into the model. \n",
    "    4. Restimate the model. \n",
    "    5. Record the new $R^2$. \n",
    "    6. Remove the new variable and go back to step 3, until we exhausted all variables in the list. "
   ]
  },
  {
   "cell_type": "markdown",
   "metadata": {},
   "source": [
    "We first import the module that will help us with the data and do the estimation for us. "
   ]
  },
  {
   "cell_type": "code",
   "execution_count": 20,
   "metadata": {
    "collapsed": true
   },
   "outputs": [],
   "source": [
    "import pandas as pd #Pandas is a powerful module for data \n",
    "import statsmodels as sm #statsmodel is a feature rich module for statistical modelling\n",
    "import statsmodels.formula.api as smf #This allows R like model specification "
   ]
  },
  {
   "cell_type": "markdown",
   "metadata": {},
   "source": [
    "We first import data into a Pandas dataframe"
   ]
  },
  {
   "cell_type": "code",
   "execution_count": 21,
   "metadata": {
    "collapsed": false
   },
   "outputs": [
    {
     "data": {
      "text/html": [
       "<div>\n",
       "<table border=\"1\" class=\"dataframe\">\n",
       "  <thead>\n",
       "    <tr style=\"text-align: right;\">\n",
       "      <th></th>\n",
       "      <th>Index</th>\n",
       "      <th>AGE</th>\n",
       "      <th>LF</th>\n",
       "      <th>M</th>\n",
       "      <th>NW</th>\n",
       "      <th>PC</th>\n",
       "      <th>POP</th>\n",
       "      <th>PX</th>\n",
       "      <th>SOUTH</th>\n",
       "      <th>T</th>\n",
       "      <th>U</th>\n",
       "      <th>URB</th>\n",
       "      <th>W</th>\n",
       "      <th>X</th>\n",
       "      <th>XPOS</th>\n",
       "    </tr>\n",
       "    <tr>\n",
       "      <th>State</th>\n",
       "      <th></th>\n",
       "      <th></th>\n",
       "      <th></th>\n",
       "      <th></th>\n",
       "      <th></th>\n",
       "      <th></th>\n",
       "      <th></th>\n",
       "      <th></th>\n",
       "      <th></th>\n",
       "      <th></th>\n",
       "      <th></th>\n",
       "      <th></th>\n",
       "      <th></th>\n",
       "      <th></th>\n",
       "      <th></th>\n",
       "    </tr>\n",
       "  </thead>\n",
       "  <tbody>\n",
       "    <tr>\n",
       "      <th>Alabama</th>\n",
       "      <td>1</td>\n",
       "      <td>0.165999</td>\n",
       "      <td>0.512</td>\n",
       "      <td>19.2523</td>\n",
       "      <td>0.320782</td>\n",
       "      <td>0.203578</td>\n",
       "      <td>8.670</td>\n",
       "      <td>0.035000</td>\n",
       "      <td>1</td>\n",
       "      <td>47</td>\n",
       "      <td>0.042</td>\n",
       "      <td>40.1</td>\n",
       "      <td>1102</td>\n",
       "      <td>0.324932</td>\n",
       "      <td>1</td>\n",
       "    </tr>\n",
       "    <tr>\n",
       "      <th>Arkansas</th>\n",
       "      <td>2</td>\n",
       "      <td>0.154263</td>\n",
       "      <td>0.485</td>\n",
       "      <td>7.5286</td>\n",
       "      <td>0.224143</td>\n",
       "      <td>0.326934</td>\n",
       "      <td>3.720</td>\n",
       "      <td>0.080851</td>\n",
       "      <td>1</td>\n",
       "      <td>58</td>\n",
       "      <td>0.047</td>\n",
       "      <td>32.3</td>\n",
       "      <td>920</td>\n",
       "      <td>0.317400</td>\n",
       "      <td>1</td>\n",
       "    </tr>\n",
       "    <tr>\n",
       "      <th>Arizona</th>\n",
       "      <td>3</td>\n",
       "      <td>0.152304</td>\n",
       "      <td>0.508</td>\n",
       "      <td>5.6567</td>\n",
       "      <td>0.126838</td>\n",
       "      <td>0.400922</td>\n",
       "      <td>2.120</td>\n",
       "      <td>0.011765</td>\n",
       "      <td>0</td>\n",
       "      <td>82</td>\n",
       "      <td>0.076</td>\n",
       "      <td>36.5</td>\n",
       "      <td>1716</td>\n",
       "      <td>0.302128</td>\n",
       "      <td>1</td>\n",
       "    </tr>\n",
       "    <tr>\n",
       "      <th>California</th>\n",
       "      <td>4</td>\n",
       "      <td>0.132523</td>\n",
       "      <td>0.544</td>\n",
       "      <td>3.2094</td>\n",
       "      <td>0.063389</td>\n",
       "      <td>0.317876</td>\n",
       "      <td>66.100</td>\n",
       "      <td>0.070370</td>\n",
       "      <td>0</td>\n",
       "      <td>100</td>\n",
       "      <td>0.079</td>\n",
       "      <td>67.1</td>\n",
       "      <td>2184</td>\n",
       "      <td>0.297032</td>\n",
       "      <td>1</td>\n",
       "    </tr>\n",
       "    <tr>\n",
       "      <th>Colorado</th>\n",
       "      <td>5</td>\n",
       "      <td>0.150324</td>\n",
       "      <td>0.524</td>\n",
       "      <td>2.8048</td>\n",
       "      <td>0.021460</td>\n",
       "      <td>0.349780</td>\n",
       "      <td>6.420</td>\n",
       "      <td>0.061538</td>\n",
       "      <td>0</td>\n",
       "      <td>222</td>\n",
       "      <td>0.042</td>\n",
       "      <td>57.4</td>\n",
       "      <td>1748</td>\n",
       "      <td>0.302152</td>\n",
       "      <td>1</td>\n",
       "    </tr>\n",
       "    <tr>\n",
       "      <th>Connecticut</th>\n",
       "      <td>6</td>\n",
       "      <td>0.132526</td>\n",
       "      <td>0.567</td>\n",
       "      <td>1.4085</td>\n",
       "      <td>0.027376</td>\n",
       "      <td>0.282964</td>\n",
       "      <td>9.940</td>\n",
       "      <td>0.100000</td>\n",
       "      <td>0</td>\n",
       "      <td>164</td>\n",
       "      <td>0.054</td>\n",
       "      <td>64.1</td>\n",
       "      <td>2255</td>\n",
       "      <td>0.247715</td>\n",
       "      <td>1</td>\n",
       "    </tr>\n",
       "    <tr>\n",
       "      <th>Delaware</th>\n",
       "      <td>7</td>\n",
       "      <td>0.138485</td>\n",
       "      <td>0.546</td>\n",
       "      <td>6.1778</td>\n",
       "      <td>0.138979</td>\n",
       "      <td>0.203556</td>\n",
       "      <td>1.290</td>\n",
       "      <td>0.050000</td>\n",
       "      <td>1</td>\n",
       "      <td>161</td>\n",
       "      <td>0.031</td>\n",
       "      <td>46.5</td>\n",
       "      <td>2066</td>\n",
       "      <td>0.270326</td>\n",
       "      <td>1</td>\n",
       "    </tr>\n",
       "    <tr>\n",
       "      <th>Florida</th>\n",
       "      <td>8</td>\n",
       "      <td>0.142542</td>\n",
       "      <td>0.527</td>\n",
       "      <td>12.1511</td>\n",
       "      <td>0.218400</td>\n",
       "      <td>0.231630</td>\n",
       "      <td>12.200</td>\n",
       "      <td>0.053846</td>\n",
       "      <td>1</td>\n",
       "      <td>70</td>\n",
       "      <td>0.045</td>\n",
       "      <td>56.5</td>\n",
       "      <td>1431</td>\n",
       "      <td>0.280856</td>\n",
       "      <td>1</td>\n",
       "    </tr>\n",
       "    <tr>\n",
       "      <th>Iowa</th>\n",
       "      <td>9</td>\n",
       "      <td>0.142673</td>\n",
       "      <td>0.523</td>\n",
       "      <td>1.3423</td>\n",
       "      <td>0.008213</td>\n",
       "      <td>0.198968</td>\n",
       "      <td>10.400</td>\n",
       "      <td>0.085714</td>\n",
       "      <td>0</td>\n",
       "      <td>219</td>\n",
       "      <td>0.018</td>\n",
       "      <td>46.9</td>\n",
       "      <td>1916</td>\n",
       "      <td>0.295264</td>\n",
       "      <td>1</td>\n",
       "    </tr>\n",
       "    <tr>\n",
       "      <th>Idaho</th>\n",
       "      <td>10</td>\n",
       "      <td>0.146452</td>\n",
       "      <td>0.530</td>\n",
       "      <td>3.7062</td>\n",
       "      <td>0.012303</td>\n",
       "      <td>0.137514</td>\n",
       "      <td>1.890</td>\n",
       "      <td>0.000000</td>\n",
       "      <td>0</td>\n",
       "      <td>81</td>\n",
       "      <td>0.055</td>\n",
       "      <td>39.8</td>\n",
       "      <td>1815</td>\n",
       "      <td>0.319505</td>\n",
       "      <td>0</td>\n",
       "    </tr>\n",
       "    <tr>\n",
       "      <th>Illinois</th>\n",
       "      <td>11</td>\n",
       "      <td>0.135641</td>\n",
       "      <td>0.554</td>\n",
       "      <td>5.3496</td>\n",
       "      <td>0.076458</td>\n",
       "      <td>0.141610</td>\n",
       "      <td>57.900</td>\n",
       "      <td>0.018182</td>\n",
       "      <td>0</td>\n",
       "      <td>209</td>\n",
       "      <td>0.040</td>\n",
       "      <td>74.5</td>\n",
       "      <td>2335</td>\n",
       "      <td>0.267480</td>\n",
       "      <td>1</td>\n",
       "    </tr>\n",
       "    <tr>\n",
       "      <th>Indiana</th>\n",
       "      <td>12</td>\n",
       "      <td>0.144627</td>\n",
       "      <td>0.535</td>\n",
       "      <td>4.7234</td>\n",
       "      <td>0.298842</td>\n",
       "      <td>0.118388</td>\n",
       "      <td>19.300</td>\n",
       "      <td>0.045455</td>\n",
       "      <td>0</td>\n",
       "      <td>182</td>\n",
       "      <td>0.031</td>\n",
       "      <td>56.4</td>\n",
       "      <td>2116</td>\n",
       "      <td>0.287600</td>\n",
       "      <td>1</td>\n",
       "    </tr>\n",
       "    <tr>\n",
       "      <th>Kansas</th>\n",
       "      <td>13</td>\n",
       "      <td>0.145649</td>\n",
       "      <td>0.516</td>\n",
       "      <td>3.8090</td>\n",
       "      <td>0.040066</td>\n",
       "      <td>0.206691</td>\n",
       "      <td>7.880</td>\n",
       "      <td>0.040000</td>\n",
       "      <td>0</td>\n",
       "      <td>185</td>\n",
       "      <td>0.025</td>\n",
       "      <td>47.4</td>\n",
       "      <td>1808</td>\n",
       "      <td>0.295736</td>\n",
       "      <td>1</td>\n",
       "    </tr>\n",
       "    <tr>\n",
       "      <th>Kentucky</th>\n",
       "      <td>14</td>\n",
       "      <td>0.160966</td>\n",
       "      <td>0.485</td>\n",
       "      <td>10.4411</td>\n",
       "      <td>0.068838</td>\n",
       "      <td>0.188635</td>\n",
       "      <td>7.570</td>\n",
       "      <td>0.044828</td>\n",
       "      <td>1</td>\n",
       "      <td>104</td>\n",
       "      <td>0.036</td>\n",
       "      <td>33.5</td>\n",
       "      <td>1353</td>\n",
       "      <td>0.290363</td>\n",
       "      <td>1</td>\n",
       "    </tr>\n",
       "    <tr>\n",
       "      <th>Louisana</th>\n",
       "      <td>15</td>\n",
       "      <td>0.157557</td>\n",
       "      <td>0.493</td>\n",
       "      <td>9.5804</td>\n",
       "      <td>0.330474</td>\n",
       "      <td>0.124469</td>\n",
       "      <td>11.100</td>\n",
       "      <td>0.125000</td>\n",
       "      <td>1</td>\n",
       "      <td>126</td>\n",
       "      <td>0.046</td>\n",
       "      <td>50.8</td>\n",
       "      <td>1259</td>\n",
       "      <td>0.267534</td>\n",
       "      <td>1</td>\n",
       "    </tr>\n",
       "    <tr>\n",
       "      <th>Massachusetts</th>\n",
       "      <td>16</td>\n",
       "      <td>0.140735</td>\n",
       "      <td>0.539</td>\n",
       "      <td>1.0156</td>\n",
       "      <td>0.016845</td>\n",
       "      <td>0.209925</td>\n",
       "      <td>31.500</td>\n",
       "      <td>0.060000</td>\n",
       "      <td>0</td>\n",
       "      <td>192</td>\n",
       "      <td>0.058</td>\n",
       "      <td>87.9</td>\n",
       "      <td>2065</td>\n",
       "      <td>0.241085</td>\n",
       "      <td>1</td>\n",
       "    </tr>\n",
       "    <tr>\n",
       "      <th>Maryland</th>\n",
       "      <td>17</td>\n",
       "      <td>0.146347</td>\n",
       "      <td>0.557</td>\n",
       "      <td>7.5220</td>\n",
       "      <td>0.165611</td>\n",
       "      <td>0.226962</td>\n",
       "      <td>11.300</td>\n",
       "      <td>0.055000</td>\n",
       "      <td>1</td>\n",
       "      <td>95</td>\n",
       "      <td>0.046</td>\n",
       "      <td>54.4</td>\n",
       "      <td>2044</td>\n",
       "      <td>0.272148</td>\n",
       "      <td>1</td>\n",
       "    </tr>\n",
       "    <tr>\n",
       "      <th>Maine</th>\n",
       "      <td>18</td>\n",
       "      <td>0.150017</td>\n",
       "      <td>0.512</td>\n",
       "      <td>1.3094</td>\n",
       "      <td>0.003204</td>\n",
       "      <td>0.167158</td>\n",
       "      <td>3.050</td>\n",
       "      <td>0.000000</td>\n",
       "      <td>0</td>\n",
       "      <td>245</td>\n",
       "      <td>0.088</td>\n",
       "      <td>41.0</td>\n",
       "      <td>1549</td>\n",
       "      <td>0.296350</td>\n",
       "      <td>0</td>\n",
       "    </tr>\n",
       "    <tr>\n",
       "      <th>Minnesota</th>\n",
       "      <td>19</td>\n",
       "      <td>0.141215</td>\n",
       "      <td>0.540</td>\n",
       "      <td>1.6721</td>\n",
       "      <td>0.009652</td>\n",
       "      <td>0.120316</td>\n",
       "      <td>14.400</td>\n",
       "      <td>0.000000</td>\n",
       "      <td>0</td>\n",
       "      <td>93</td>\n",
       "      <td>0.035</td>\n",
       "      <td>53.9</td>\n",
       "      <td>1887</td>\n",
       "      <td>0.300971</td>\n",
       "      <td>0</td>\n",
       "    </tr>\n",
       "    <tr>\n",
       "      <th>Missouri</th>\n",
       "      <td>20</td>\n",
       "      <td>0.139801</td>\n",
       "      <td>0.522</td>\n",
       "      <td>7.0718</td>\n",
       "      <td>0.075622</td>\n",
       "      <td>0.139453</td>\n",
       "      <td>18.900</td>\n",
       "      <td>0.041026</td>\n",
       "      <td>0</td>\n",
       "      <td>177</td>\n",
       "      <td>0.033</td>\n",
       "      <td>57.4</td>\n",
       "      <td>1682</td>\n",
       "      <td>0.291120</td>\n",
       "      <td>1</td>\n",
       "    </tr>\n",
       "    <tr>\n",
       "      <th>Mississipi</th>\n",
       "      <td>21</td>\n",
       "      <td>0.166747</td>\n",
       "      <td>0.511</td>\n",
       "      <td>11.7936</td>\n",
       "      <td>0.454484</td>\n",
       "      <td>0.272403</td>\n",
       "      <td>3.990</td>\n",
       "      <td>0.062857</td>\n",
       "      <td>1</td>\n",
       "      <td>125</td>\n",
       "      <td>0.035</td>\n",
       "      <td>27.6</td>\n",
       "      <td>758</td>\n",
       "      <td>0.304716</td>\n",
       "      <td>1</td>\n",
       "    </tr>\n",
       "    <tr>\n",
       "      <th>Montana</th>\n",
       "      <td>22</td>\n",
       "      <td>0.139345</td>\n",
       "      <td>0.540</td>\n",
       "      <td>2.7072</td>\n",
       "      <td>0.032124</td>\n",
       "      <td>0.124998</td>\n",
       "      <td>1.480</td>\n",
       "      <td>0.000000</td>\n",
       "      <td>0</td>\n",
       "      <td>56</td>\n",
       "      <td>0.051</td>\n",
       "      <td>42.8</td>\n",
       "      <td>1956</td>\n",
       "      <td>0.305928</td>\n",
       "      <td>0</td>\n",
       "    </tr>\n",
       "    <tr>\n",
       "      <th>North Carolina</th>\n",
       "      <td>23</td>\n",
       "      <td>0.177759</td>\n",
       "      <td>0.550</td>\n",
       "      <td>13.2054</td>\n",
       "      <td>0.265590</td>\n",
       "      <td>0.234902</td>\n",
       "      <td>10.200</td>\n",
       "      <td>0.085714</td>\n",
       "      <td>1</td>\n",
       "      <td>85</td>\n",
       "      <td>0.033</td>\n",
       "      <td>30.5</td>\n",
       "      <td>1293</td>\n",
       "      <td>0.302052</td>\n",
       "      <td>1</td>\n",
       "    </tr>\n",
       "    <tr>\n",
       "      <th>Nebraska</th>\n",
       "      <td>24</td>\n",
       "      <td>0.147975</td>\n",
       "      <td>0.529</td>\n",
       "      <td>3.4836</td>\n",
       "      <td>0.018244</td>\n",
       "      <td>0.108282</td>\n",
       "      <td>5.170</td>\n",
       "      <td>0.040000</td>\n",
       "      <td>0</td>\n",
       "      <td>199</td>\n",
       "      <td>0.022</td>\n",
       "      <td>45.8</td>\n",
       "      <td>1809</td>\n",
       "      <td>0.282215</td>\n",
       "      <td>1</td>\n",
       "    </tr>\n",
       "    <tr>\n",
       "      <th>New Hampshire</th>\n",
       "      <td>25</td>\n",
       "      <td>0.136333</td>\n",
       "      <td>0.537</td>\n",
       "      <td>0.8070</td>\n",
       "      <td>0.037898</td>\n",
       "      <td>0.671923</td>\n",
       "      <td>2.480</td>\n",
       "      <td>0.000000</td>\n",
       "      <td>0</td>\n",
       "      <td>298</td>\n",
       "      <td>0.066</td>\n",
       "      <td>56.5</td>\n",
       "      <td>1716</td>\n",
       "      <td>0.285512</td>\n",
       "      <td>0</td>\n",
       "    </tr>\n",
       "    <tr>\n",
       "      <th>New Jersey</th>\n",
       "      <td>26</td>\n",
       "      <td>0.135722</td>\n",
       "      <td>0.558</td>\n",
       "      <td>2.3161</td>\n",
       "      <td>0.066954</td>\n",
       "      <td>0.357172</td>\n",
       "      <td>26.800</td>\n",
       "      <td>0.030000</td>\n",
       "      <td>0</td>\n",
       "      <td>145</td>\n",
       "      <td>0.051</td>\n",
       "      <td>79.6</td>\n",
       "      <td>2389</td>\n",
       "      <td>0.238399</td>\n",
       "      <td>1</td>\n",
       "    </tr>\n",
       "    <tr>\n",
       "      <th>New Mexico</th>\n",
       "      <td>27</td>\n",
       "      <td>0.168465</td>\n",
       "      <td>0.504</td>\n",
       "      <td>3.4709</td>\n",
       "      <td>0.074834</td>\n",
       "      <td>0.592128</td>\n",
       "      <td>2.020</td>\n",
       "      <td>0.028571</td>\n",
       "      <td>0</td>\n",
       "      <td>78</td>\n",
       "      <td>0.054</td>\n",
       "      <td>46.2</td>\n",
       "      <td>1681</td>\n",
       "      <td>0.300745</td>\n",
       "      <td>1</td>\n",
       "    </tr>\n",
       "    <tr>\n",
       "      <th>Nevada</th>\n",
       "      <td>28</td>\n",
       "      <td>0.127784</td>\n",
       "      <td>0.588</td>\n",
       "      <td>8.3135</td>\n",
       "      <td>0.063561</td>\n",
       "      <td>0.225419</td>\n",
       "      <td>0.601</td>\n",
       "      <td>0.400000</td>\n",
       "      <td>0</td>\n",
       "      <td>144</td>\n",
       "      <td>0.067</td>\n",
       "      <td>52.5</td>\n",
       "      <td>2294</td>\n",
       "      <td>0.286518</td>\n",
       "      <td>1</td>\n",
       "    </tr>\n",
       "    <tr>\n",
       "      <th>New York</th>\n",
       "      <td>29</td>\n",
       "      <td>0.134108</td>\n",
       "      <td>0.545</td>\n",
       "      <td>1.5683</td>\n",
       "      <td>0.064604</td>\n",
       "      <td>0.266575</td>\n",
       "      <td>37.600</td>\n",
       "      <td>0.125806</td>\n",
       "      <td>0</td>\n",
       "      <td>178</td>\n",
       "      <td>0.060</td>\n",
       "      <td>80.2</td>\n",
       "      <td>2337</td>\n",
       "      <td>0.209235</td>\n",
       "      <td>1</td>\n",
       "    </tr>\n",
       "    <tr>\n",
       "      <th>Ohio</th>\n",
       "      <td>30</td>\n",
       "      <td>0.138551</td>\n",
       "      <td>0.535</td>\n",
       "      <td>4.1335</td>\n",
       "      <td>0.065236</td>\n",
       "      <td>0.164398</td>\n",
       "      <td>48.600</td>\n",
       "      <td>0.122222</td>\n",
       "      <td>0</td>\n",
       "      <td>146</td>\n",
       "      <td>0.044</td>\n",
       "      <td>66.4</td>\n",
       "      <td>2206</td>\n",
       "      <td>0.282952</td>\n",
       "      <td>1</td>\n",
       "    </tr>\n",
       "    <tr>\n",
       "      <th>Oklahoma</th>\n",
       "      <td>31</td>\n",
       "      <td>0.154608</td>\n",
       "      <td>0.488</td>\n",
       "      <td>3.8393</td>\n",
       "      <td>0.089921</td>\n",
       "      <td>0.128286</td>\n",
       "      <td>7.810</td>\n",
       "      <td>0.090909</td>\n",
       "      <td>1</td>\n",
       "      <td>132</td>\n",
       "      <td>0.038</td>\n",
       "      <td>49.6</td>\n",
       "      <td>1416</td>\n",
       "      <td>0.289952</td>\n",
       "      <td>1</td>\n",
       "    </tr>\n",
       "    <tr>\n",
       "      <th>Oregon</th>\n",
       "      <td>32</td>\n",
       "      <td>0.132651</td>\n",
       "      <td>0.545</td>\n",
       "      <td>1.8328</td>\n",
       "      <td>0.015916</td>\n",
       "      <td>0.286917</td>\n",
       "      <td>6.550</td>\n",
       "      <td>0.075000</td>\n",
       "      <td>0</td>\n",
       "      <td>98</td>\n",
       "      <td>0.065</td>\n",
       "      <td>48.1</td>\n",
       "      <td>1967</td>\n",
       "      <td>0.322941</td>\n",
       "      <td>1</td>\n",
       "    </tr>\n",
       "    <tr>\n",
       "      <th>Pennsylvania</th>\n",
       "      <td>33</td>\n",
       "      <td>0.145805</td>\n",
       "      <td>0.521</td>\n",
       "      <td>3.5360</td>\n",
       "      <td>0.061361</td>\n",
       "      <td>0.210125</td>\n",
       "      <td>54.000</td>\n",
       "      <td>0.069231</td>\n",
       "      <td>0</td>\n",
       "      <td>120</td>\n",
       "      <td>0.054</td>\n",
       "      <td>65.8</td>\n",
       "      <td>2124</td>\n",
       "      <td>0.257392</td>\n",
       "      <td>1</td>\n",
       "    </tr>\n",
       "    <tr>\n",
       "      <th>Rhode Island</th>\n",
       "      <td>34</td>\n",
       "      <td>0.152406</td>\n",
       "      <td>0.560</td>\n",
       "      <td>1.1084</td>\n",
       "      <td>0.018792</td>\n",
       "      <td>0.341794</td>\n",
       "      <td>5.410</td>\n",
       "      <td>0.000000</td>\n",
       "      <td>0</td>\n",
       "      <td>148</td>\n",
       "      <td>0.072</td>\n",
       "      <td>88.4</td>\n",
       "      <td>1899</td>\n",
       "      <td>0.245577</td>\n",
       "      <td>0</td>\n",
       "    </tr>\n",
       "    <tr>\n",
       "      <th>South Carolina</th>\n",
       "      <td>35</td>\n",
       "      <td>0.175382</td>\n",
       "      <td>0.562</td>\n",
       "      <td>8.8992</td>\n",
       "      <td>0.389047</td>\n",
       "      <td>0.132698</td>\n",
       "      <td>4.050</td>\n",
       "      <td>0.216000</td>\n",
       "      <td>1</td>\n",
       "      <td>123</td>\n",
       "      <td>0.034</td>\n",
       "      <td>28.8</td>\n",
       "      <td>1150</td>\n",
       "      <td>0.320600</td>\n",
       "      <td>1</td>\n",
       "    </tr>\n",
       "    <tr>\n",
       "      <th>South Dakota</th>\n",
       "      <td>36</td>\n",
       "      <td>0.154947</td>\n",
       "      <td>0.533</td>\n",
       "      <td>1.2739</td>\n",
       "      <td>0.037130</td>\n",
       "      <td>0.240531</td>\n",
       "      <td>1.570</td>\n",
       "      <td>0.100000</td>\n",
       "      <td>0</td>\n",
       "      <td>282</td>\n",
       "      <td>0.028</td>\n",
       "      <td>33.1</td>\n",
       "      <td>1702</td>\n",
       "      <td>0.295194</td>\n",
       "      <td>1</td>\n",
       "    </tr>\n",
       "    <tr>\n",
       "      <th>Tennessee</th>\n",
       "      <td>37</td>\n",
       "      <td>0.162758</td>\n",
       "      <td>0.509</td>\n",
       "      <td>15.2657</td>\n",
       "      <td>0.161454</td>\n",
       "      <td>0.167163</td>\n",
       "      <td>9.760</td>\n",
       "      <td>0.038095</td>\n",
       "      <td>1</td>\n",
       "      <td>79</td>\n",
       "      <td>0.039</td>\n",
       "      <td>38.4</td>\n",
       "      <td>1238</td>\n",
       "      <td>0.297602</td>\n",
       "      <td>1</td>\n",
       "    </tr>\n",
       "    <tr>\n",
       "      <th>Texas</th>\n",
       "      <td>38</td>\n",
       "      <td>0.160103</td>\n",
       "      <td>0.532</td>\n",
       "      <td>11.1535</td>\n",
       "      <td>0.127692</td>\n",
       "      <td>0.252306</td>\n",
       "      <td>34.200</td>\n",
       "      <td>0.039631</td>\n",
       "      <td>1</td>\n",
       "      <td>34</td>\n",
       "      <td>0.039</td>\n",
       "      <td>59.8</td>\n",
       "      <td>1546</td>\n",
       "      <td>0.300538</td>\n",
       "      <td>1</td>\n",
       "    </tr>\n",
       "    <tr>\n",
       "      <th>Utah</th>\n",
       "      <td>39</td>\n",
       "      <td>0.163862</td>\n",
       "      <td>0.517</td>\n",
       "      <td>1.7368</td>\n",
       "      <td>0.017352</td>\n",
       "      <td>0.417907</td>\n",
       "      <td>3.450</td>\n",
       "      <td>0.000000</td>\n",
       "      <td>0</td>\n",
       "      <td>104</td>\n",
       "      <td>0.052</td>\n",
       "      <td>59.9</td>\n",
       "      <td>2035</td>\n",
       "      <td>0.319185</td>\n",
       "      <td>0</td>\n",
       "    </tr>\n",
       "    <tr>\n",
       "      <th>Virgina</th>\n",
       "      <td>40</td>\n",
       "      <td>0.168072</td>\n",
       "      <td>0.543</td>\n",
       "      <td>11.9782</td>\n",
       "      <td>0.222114</td>\n",
       "      <td>0.281749</td>\n",
       "      <td>10.400</td>\n",
       "      <td>0.032143</td>\n",
       "      <td>1</td>\n",
       "      <td>91</td>\n",
       "      <td>0.039</td>\n",
       "      <td>40.3</td>\n",
       "      <td>1593</td>\n",
       "      <td>0.277950</td>\n",
       "      <td>1</td>\n",
       "    </tr>\n",
       "    <tr>\n",
       "      <th>Washington</th>\n",
       "      <td>41</td>\n",
       "      <td>0.140109</td>\n",
       "      <td>0.537</td>\n",
       "      <td>3.0412</td>\n",
       "      <td>0.026258</td>\n",
       "      <td>0.193504</td>\n",
       "      <td>11.200</td>\n",
       "      <td>0.085714</td>\n",
       "      <td>0</td>\n",
       "      <td>199</td>\n",
       "      <td>0.067</td>\n",
       "      <td>53.6</td>\n",
       "      <td>2067</td>\n",
       "      <td>0.313700</td>\n",
       "      <td>1</td>\n",
       "    </tr>\n",
       "    <tr>\n",
       "      <th>Wisconsin</th>\n",
       "      <td>42</td>\n",
       "      <td>0.140883</td>\n",
       "      <td>0.547</td>\n",
       "      <td>0.8477</td>\n",
       "      <td>0.012195</td>\n",
       "      <td>0.377809</td>\n",
       "      <td>17.700</td>\n",
       "      <td>0.000000</td>\n",
       "      <td>0</td>\n",
       "      <td>101</td>\n",
       "      <td>0.029</td>\n",
       "      <td>55.5</td>\n",
       "      <td>1995</td>\n",
       "      <td>0.301385</td>\n",
       "      <td>0</td>\n",
       "    </tr>\n",
       "    <tr>\n",
       "      <th>West Virgina</th>\n",
       "      <td>43</td>\n",
       "      <td>0.162544</td>\n",
       "      <td>0.470</td>\n",
       "      <td>2.8339</td>\n",
       "      <td>0.057475</td>\n",
       "      <td>0.756579</td>\n",
       "      <td>4.590</td>\n",
       "      <td>0.032558</td>\n",
       "      <td>1</td>\n",
       "      <td>109</td>\n",
       "      <td>0.048</td>\n",
       "      <td>31.9</td>\n",
       "      <td>1840</td>\n",
       "      <td>0.303040</td>\n",
       "      <td>1</td>\n",
       "    </tr>\n",
       "    <tr>\n",
       "      <th>Wyoming</th>\n",
       "      <td>44</td>\n",
       "      <td>0.160476</td>\n",
       "      <td>0.569</td>\n",
       "      <td>2.8915</td>\n",
       "      <td>0.022442</td>\n",
       "      <td>0.357114</td>\n",
       "      <td>1.040</td>\n",
       "      <td>0.000000</td>\n",
       "      <td>0</td>\n",
       "      <td>117</td>\n",
       "      <td>0.043</td>\n",
       "      <td>49.8</td>\n",
       "      <td>2037</td>\n",
       "      <td>0.306737</td>\n",
       "      <td>0</td>\n",
       "    </tr>\n",
       "  </tbody>\n",
       "</table>\n",
       "</div>"
      ],
      "text/plain": [
       "                Index       AGE     LF        M        NW        PC     POP  \\\n",
       "State                                                                         \n",
       "Alabama             1  0.165999  0.512  19.2523  0.320782  0.203578   8.670   \n",
       "Arkansas            2  0.154263  0.485   7.5286  0.224143  0.326934   3.720   \n",
       "Arizona             3  0.152304  0.508   5.6567  0.126838  0.400922   2.120   \n",
       "California          4  0.132523  0.544   3.2094  0.063389  0.317876  66.100   \n",
       "Colorado            5  0.150324  0.524   2.8048  0.021460  0.349780   6.420   \n",
       "Connecticut         6  0.132526  0.567   1.4085  0.027376  0.282964   9.940   \n",
       "Delaware            7  0.138485  0.546   6.1778  0.138979  0.203556   1.290   \n",
       "Florida             8  0.142542  0.527  12.1511  0.218400  0.231630  12.200   \n",
       "Iowa                9  0.142673  0.523   1.3423  0.008213  0.198968  10.400   \n",
       "Idaho              10  0.146452  0.530   3.7062  0.012303  0.137514   1.890   \n",
       "Illinois           11  0.135641  0.554   5.3496  0.076458  0.141610  57.900   \n",
       "Indiana            12  0.144627  0.535   4.7234  0.298842  0.118388  19.300   \n",
       "Kansas             13  0.145649  0.516   3.8090  0.040066  0.206691   7.880   \n",
       "Kentucky           14  0.160966  0.485  10.4411  0.068838  0.188635   7.570   \n",
       "Louisana           15  0.157557  0.493   9.5804  0.330474  0.124469  11.100   \n",
       "Massachusetts      16  0.140735  0.539   1.0156  0.016845  0.209925  31.500   \n",
       "Maryland           17  0.146347  0.557   7.5220  0.165611  0.226962  11.300   \n",
       "Maine              18  0.150017  0.512   1.3094  0.003204  0.167158   3.050   \n",
       "Minnesota          19  0.141215  0.540   1.6721  0.009652  0.120316  14.400   \n",
       "Missouri           20  0.139801  0.522   7.0718  0.075622  0.139453  18.900   \n",
       "Mississipi         21  0.166747  0.511  11.7936  0.454484  0.272403   3.990   \n",
       "Montana            22  0.139345  0.540   2.7072  0.032124  0.124998   1.480   \n",
       "North Carolina     23  0.177759  0.550  13.2054  0.265590  0.234902  10.200   \n",
       "Nebraska           24  0.147975  0.529   3.4836  0.018244  0.108282   5.170   \n",
       "New Hampshire      25  0.136333  0.537   0.8070  0.037898  0.671923   2.480   \n",
       "New Jersey         26  0.135722  0.558   2.3161  0.066954  0.357172  26.800   \n",
       "New Mexico         27  0.168465  0.504   3.4709  0.074834  0.592128   2.020   \n",
       "Nevada             28  0.127784  0.588   8.3135  0.063561  0.225419   0.601   \n",
       "New York           29  0.134108  0.545   1.5683  0.064604  0.266575  37.600   \n",
       "Ohio               30  0.138551  0.535   4.1335  0.065236  0.164398  48.600   \n",
       "Oklahoma           31  0.154608  0.488   3.8393  0.089921  0.128286   7.810   \n",
       "Oregon             32  0.132651  0.545   1.8328  0.015916  0.286917   6.550   \n",
       "Pennsylvania       33  0.145805  0.521   3.5360  0.061361  0.210125  54.000   \n",
       "Rhode Island       34  0.152406  0.560   1.1084  0.018792  0.341794   5.410   \n",
       "South Carolina     35  0.175382  0.562   8.8992  0.389047  0.132698   4.050   \n",
       "South Dakota       36  0.154947  0.533   1.2739  0.037130  0.240531   1.570   \n",
       "Tennessee          37  0.162758  0.509  15.2657  0.161454  0.167163   9.760   \n",
       "Texas              38  0.160103  0.532  11.1535  0.127692  0.252306  34.200   \n",
       "Utah               39  0.163862  0.517   1.7368  0.017352  0.417907   3.450   \n",
       "Virgina            40  0.168072  0.543  11.9782  0.222114  0.281749  10.400   \n",
       "Washington         41  0.140109  0.537   3.0412  0.026258  0.193504  11.200   \n",
       "Wisconsin          42  0.140883  0.547   0.8477  0.012195  0.377809  17.700   \n",
       "West Virgina       43  0.162544  0.470   2.8339  0.057475  0.756579   4.590   \n",
       "Wyoming            44  0.160476  0.569   2.8915  0.022442  0.357114   1.040   \n",
       "\n",
       "                      PX  SOUTH    T      U   URB     W         X  XPOS  \n",
       "State                                                                    \n",
       "Alabama         0.035000      1   47  0.042  40.1  1102  0.324932     1  \n",
       "Arkansas        0.080851      1   58  0.047  32.3   920  0.317400     1  \n",
       "Arizona         0.011765      0   82  0.076  36.5  1716  0.302128     1  \n",
       "California      0.070370      0  100  0.079  67.1  2184  0.297032     1  \n",
       "Colorado        0.061538      0  222  0.042  57.4  1748  0.302152     1  \n",
       "Connecticut     0.100000      0  164  0.054  64.1  2255  0.247715     1  \n",
       "Delaware        0.050000      1  161  0.031  46.5  2066  0.270326     1  \n",
       "Florida         0.053846      1   70  0.045  56.5  1431  0.280856     1  \n",
       "Iowa            0.085714      0  219  0.018  46.9  1916  0.295264     1  \n",
       "Idaho           0.000000      0   81  0.055  39.8  1815  0.319505     0  \n",
       "Illinois        0.018182      0  209  0.040  74.5  2335  0.267480     1  \n",
       "Indiana         0.045455      0  182  0.031  56.4  2116  0.287600     1  \n",
       "Kansas          0.040000      0  185  0.025  47.4  1808  0.295736     1  \n",
       "Kentucky        0.044828      1  104  0.036  33.5  1353  0.290363     1  \n",
       "Louisana        0.125000      1  126  0.046  50.8  1259  0.267534     1  \n",
       "Massachusetts   0.060000      0  192  0.058  87.9  2065  0.241085     1  \n",
       "Maryland        0.055000      1   95  0.046  54.4  2044  0.272148     1  \n",
       "Maine           0.000000      0  245  0.088  41.0  1549  0.296350     0  \n",
       "Minnesota       0.000000      0   93  0.035  53.9  1887  0.300971     0  \n",
       "Missouri        0.041026      0  177  0.033  57.4  1682  0.291120     1  \n",
       "Mississipi      0.062857      1  125  0.035  27.6   758  0.304716     1  \n",
       "Montana         0.000000      0   56  0.051  42.8  1956  0.305928     0  \n",
       "North Carolina  0.085714      1   85  0.033  30.5  1293  0.302052     1  \n",
       "Nebraska        0.040000      0  199  0.022  45.8  1809  0.282215     1  \n",
       "New Hampshire   0.000000      0  298  0.066  56.5  1716  0.285512     0  \n",
       "New Jersey      0.030000      0  145  0.051  79.6  2389  0.238399     1  \n",
       "New Mexico      0.028571      0   78  0.054  46.2  1681  0.300745     1  \n",
       "Nevada          0.400000      0  144  0.067  52.5  2294  0.286518     1  \n",
       "New York        0.125806      0  178  0.060  80.2  2337  0.209235     1  \n",
       "Ohio            0.122222      0  146  0.044  66.4  2206  0.282952     1  \n",
       "Oklahoma        0.090909      1  132  0.038  49.6  1416  0.289952     1  \n",
       "Oregon          0.075000      0   98  0.065  48.1  1967  0.322941     1  \n",
       "Pennsylvania    0.069231      0  120  0.054  65.8  2124  0.257392     1  \n",
       "Rhode Island    0.000000      0  148  0.072  88.4  1899  0.245577     0  \n",
       "South Carolina  0.216000      1  123  0.034  28.8  1150  0.320600     1  \n",
       "South Dakota    0.100000      0  282  0.028  33.1  1702  0.295194     1  \n",
       "Tennessee       0.038095      1   79  0.039  38.4  1238  0.297602     1  \n",
       "Texas           0.039631      1   34  0.039  59.8  1546  0.300538     1  \n",
       "Utah            0.000000      0  104  0.052  59.9  2035  0.319185     0  \n",
       "Virgina         0.032143      1   91  0.039  40.3  1593  0.277950     1  \n",
       "Washington      0.085714      0  199  0.067  53.6  2067  0.313700     1  \n",
       "Wisconsin       0.000000      0  101  0.029  55.5  1995  0.301385     0  \n",
       "West Virgina    0.032558      1  109  0.048  31.9  1840  0.303040     1  \n",
       "Wyoming         0.000000      0  117  0.043  49.8  2037  0.306737     0  "
      ]
     },
     "execution_count": 21,
     "metadata": {},
     "output_type": "execute_result"
    }
   ],
   "source": [
    "m = pd.read_excel('../data/mur.xlsx', header=0, index_col=0)\n",
    "m"
   ]
  },
  {
   "cell_type": "markdown",
   "metadata": {},
   "source": [
    "The code below show us how to specify and estimate a benchmark model. "
   ]
  },
  {
   "cell_type": "code",
   "execution_count": 26,
   "metadata": {
    "collapsed": false
   },
   "outputs": [
    {
     "data": {
      "text/html": [
       "<table class=\"simpletable\">\n",
       "<caption>OLS Regression Results</caption>\n",
       "<tr>\n",
       "  <th>Dep. Variable:</th>            <td>M</td>        <th>  R-squared:         </th> <td>   0.356</td>\n",
       "</tr>\n",
       "<tr>\n",
       "  <th>Model:</th>                   <td>OLS</td>       <th>  Adj. R-squared:    </th> <td>   0.308</td>\n",
       "</tr>\n",
       "<tr>\n",
       "  <th>Method:</th>             <td>Least Squares</td>  <th>  F-statistic:       </th> <td>   7.370</td>\n",
       "</tr>\n",
       "<tr>\n",
       "  <th>Date:</th>             <td>Mon, 17 Oct 2016</td> <th>  Prob (F-statistic):</th> <td>0.000481</td>\n",
       "</tr>\n",
       "<tr>\n",
       "  <th>Time:</th>                 <td>13:53:17</td>     <th>  Log-Likelihood:    </th> <td> -118.07</td>\n",
       "</tr>\n",
       "<tr>\n",
       "  <th>No. Observations:</th>      <td>    44</td>      <th>  AIC:               </th> <td>   244.1</td>\n",
       "</tr>\n",
       "<tr>\n",
       "  <th>Df Residuals:</th>          <td>    40</td>      <th>  BIC:               </th> <td>   251.3</td>\n",
       "</tr>\n",
       "<tr>\n",
       "  <th>Df Model:</th>              <td>     3</td>      <th>                     </th>     <td> </td>   \n",
       "</tr>\n",
       "<tr>\n",
       "  <th>Covariance Type:</th>      <td>nonrobust</td>    <th>                     </th>     <td> </td>   \n",
       "</tr>\n",
       "</table>\n",
       "<table class=\"simpletable\">\n",
       "<tr>\n",
       "      <td></td>         <th>coef</th>     <th>std err</th>      <th>t</th>      <th>P>|t|</th> <th>[95.0% Conf. Int.]</th> \n",
       "</tr>\n",
       "<tr>\n",
       "  <th>Intercept</th> <td>   11.6980</td> <td>    1.832</td> <td>    6.385</td> <td> 0.000</td> <td>    7.995    15.401</td>\n",
       "</tr>\n",
       "<tr>\n",
       "  <th>PC</th>        <td>   -6.6638</td> <td>    4.095</td> <td>   -1.627</td> <td> 0.112</td> <td>  -14.941     1.613</td>\n",
       "</tr>\n",
       "<tr>\n",
       "  <th>PX</th>        <td>   11.0791</td> <td>    8.481</td> <td>    1.306</td> <td> 0.199</td> <td>   -6.061    28.219</td>\n",
       "</tr>\n",
       "<tr>\n",
       "  <th>T</th>         <td>   -0.0383</td> <td>    0.009</td> <td>   -4.156</td> <td> 0.000</td> <td>   -0.057    -0.020</td>\n",
       "</tr>\n",
       "</table>\n",
       "<table class=\"simpletable\">\n",
       "<tr>\n",
       "  <th>Omnibus:</th>       <td> 4.692</td> <th>  Durbin-Watson:     </th> <td>   1.970</td>\n",
       "</tr>\n",
       "<tr>\n",
       "  <th>Prob(Omnibus):</th> <td> 0.096</td> <th>  Jarque-Bera (JB):  </th> <td>   3.746</td>\n",
       "</tr>\n",
       "<tr>\n",
       "  <th>Skew:</th>          <td> 0.702</td> <th>  Prob(JB):          </th> <td>   0.154</td>\n",
       "</tr>\n",
       "<tr>\n",
       "  <th>Kurtosis:</th>      <td> 3.266</td> <th>  Cond. No.          </th> <td>2.29e+03</td>\n",
       "</tr>\n",
       "</table>"
      ],
      "text/plain": [
       "<class 'statsmodels.iolib.summary.Summary'>\n",
       "\"\"\"\n",
       "                            OLS Regression Results                            \n",
       "==============================================================================\n",
       "Dep. Variable:                      M   R-squared:                       0.356\n",
       "Model:                            OLS   Adj. R-squared:                  0.308\n",
       "Method:                 Least Squares   F-statistic:                     7.370\n",
       "Date:                Mon, 17 Oct 2016   Prob (F-statistic):           0.000481\n",
       "Time:                        13:53:17   Log-Likelihood:                -118.07\n",
       "No. Observations:                  44   AIC:                             244.1\n",
       "Df Residuals:                      40   BIC:                             251.3\n",
       "Df Model:                           3                                         \n",
       "Covariance Type:            nonrobust                                         \n",
       "==============================================================================\n",
       "                 coef    std err          t      P>|t|      [95.0% Conf. Int.]\n",
       "------------------------------------------------------------------------------\n",
       "Intercept     11.6980      1.832      6.385      0.000         7.995    15.401\n",
       "PC            -6.6638      4.095     -1.627      0.112       -14.941     1.613\n",
       "PX            11.0791      8.481      1.306      0.199        -6.061    28.219\n",
       "T             -0.0383      0.009     -4.156      0.000        -0.057    -0.020\n",
       "==============================================================================\n",
       "Omnibus:                        4.692   Durbin-Watson:                   1.970\n",
       "Prob(Omnibus):                  0.096   Jarque-Bera (JB):                3.746\n",
       "Skew:                           0.702   Prob(JB):                        0.154\n",
       "Kurtosis:                       3.266   Cond. No.                     2.29e+03\n",
       "==============================================================================\n",
       "\n",
       "Warnings:\n",
       "[1] Standard Errors assume that the covariance matrix of the errors is correctly specified.\n",
       "[2] The condition number is large, 2.29e+03. This might indicate that there are\n",
       "strong multicollinearity or other numerical problems.\n",
       "\"\"\""
      ]
     },
     "execution_count": 26,
     "metadata": {},
     "output_type": "execute_result"
    }
   ],
   "source": [
    "benchmark = 'M~1+PC+PX+T' #define the benchmark model \n",
    "reg01 = smf.ols(benchmark, data=m).fit()\n",
    "reg01.summary()"
   ]
  },
  {
   "cell_type": "markdown",
   "metadata": {},
   "source": [
    "Construct the list of variables that we want to add to the regression model. "
   ]
  },
  {
   "cell_type": "code",
   "execution_count": 24,
   "metadata": {
    "collapsed": false
   },
   "outputs": [],
   "source": [
    "varlist = m.columns.difference(['PC', 'PX', 'T', 'Index', 'M'])"
   ]
  },
  {
   "cell_type": "markdown",
   "metadata": {},
   "source": [
    "Now we are ready"
   ]
  },
  {
   "cell_type": "code",
   "execution_count": 27,
   "metadata": {
    "collapsed": false
   },
   "outputs": [],
   "source": [
    "Rlist = [] #initiate a list to store R-squared. \n",
    "benchmark = 'M~1+PC+PX+T' \n",
    "for var in varlist: \n",
    "    tempm = benchmark+'+'+var #add variable 'var' into the specification. \n",
    "    tempsmf = smf.ols(tempm, data=m).fit() #estimate the new model. \n",
    "    Rlist.append( [var, tempsmf.rsquared, tempsmf.rsquared-reg01.rsquared]) #record the R^2\n"
   ]
  },
  {
   "cell_type": "code",
   "execution_count": 28,
   "metadata": {
    "collapsed": false
   },
   "outputs": [
    {
     "data": {
      "text/plain": [
       "[['AGE', 0.53309830573178807, 0.17712324295586002],\n",
       " ['LF', 0.39616849163393431, 0.040193428858006253],\n",
       " ['NW', 0.65896220506394698, 0.30298714228801893],\n",
       " ['POP', 0.36980201228814835, 0.013826949512220299],\n",
       " ['SOUTH', 0.66806772504062861, 0.31209266226470056],\n",
       " ['U', 0.40508669966301614, 0.049111636887088084],\n",
       " ['URB', 0.45163768462927834, 0.095662621853350283],\n",
       " ['W', 0.61677688925584362, 0.26080182647991557],\n",
       " ['X', 0.36747365290635281, 0.011498590130424757],\n",
       " ['XPOS', 0.46279850938667133, 0.10682344661074328]]"
      ]
     },
     "execution_count": 28,
     "metadata": {},
     "output_type": "execute_result"
    }
   ],
   "source": [
    "Rlist"
   ]
  },
  {
   "cell_type": "markdown",
   "metadata": {},
   "source": [
    "Input/Output (IO)\n",
    "---------------\n",
    "In the last example, we exposed a function that imports data stored in EXCEL into Python/pandas. We are not a position to to talk a little more about input and output. \n",
    "\n",
    "Most books in Python will start with the 'print' function for ouput. "
   ]
  },
  {
   "cell_type": "code",
   "execution_count": 29,
   "metadata": {
    "collapsed": false
   },
   "outputs": [
    {
     "name": "stdout",
     "output_type": "stream",
     "text": [
      "What is your name?\n"
     ]
    }
   ],
   "source": [
    "print('What is your name?')"
   ]
  },
  {
   "cell_type": "markdown",
   "metadata": {},
   "source": [
    "This doesn't allow us to enter an answer. Try 'input'"
   ]
  },
  {
   "cell_type": "code",
   "execution_count": 30,
   "metadata": {
    "collapsed": false
   },
   "outputs": [
    {
     "name": "stdout",
     "output_type": "stream",
     "text": [
      "What is your name? Felix\n"
     ]
    }
   ],
   "source": [
    "name = input('What is your name? ')"
   ]
  },
  {
   "cell_type": "markdown",
   "metadata": {},
   "source": [
    "The last name print the line 'What is your name' and store the response (as a string) into the variable called **name**. Now we can use **name** to construct a response. "
   ]
  },
  {
   "cell_type": "code",
   "execution_count": 31,
   "metadata": {
    "collapsed": false
   },
   "outputs": [
    {
     "name": "stdout",
     "output_type": "stream",
     "text": [
      "Nice meeting you Felix!\n"
     ]
    }
   ],
   "source": [
    "print('Nice meeting you {0}!'.format(name))"
   ]
  },
  {
   "cell_type": "markdown",
   "metadata": {},
   "source": [
    "This shows basic input and output functionality via *standard* I/O. To input data via file. "
   ]
  },
  {
   "cell_type": "code",
   "execution_count": 32,
   "metadata": {
    "collapsed": false
   },
   "outputs": [
    {
     "name": "stdout",
     "output_type": "stream",
     "text": [
      ",coef,std err\n",
      "\n",
      "c,11.6980,1.832\n",
      "\n",
      "PC,-6.6638,4.095\n",
      "\n",
      "PX,11.0791,8.481\n",
      "\n",
      "T,-0.0383,0.009\n",
      "\n",
      "The total number of line in this file is 5\n"
     ]
    }
   ],
   "source": [
    "f = open('../data/estimate.txt') #open a file to be read. \n",
    "for i,line in enumerate(f): \n",
    "    print(line)\n",
    "f.close()\n",
    "print('The total number of line in this file is {0}'.format(i+1))"
   ]
  },
  {
   "cell_type": "markdown",
   "metadata": {},
   "source": [
    "As you can see, this text file contains the regression output of our benchmark model. It represents a typical output format from software, namely, a column of coefficients and a column of standard errors. A typical problem is to put each standard error under its corrresponding estimate, and possibly with a bracket around it. So the step is this\n",
    "1. Import each line. \n",
    "2. Separate the coefficient and the standard error. \n",
    "3. For each row, put the standard error underneath the coefficient. "
   ]
  },
  {
   "cell_type": "code",
   "execution_count": 33,
   "metadata": {
    "collapsed": false
   },
   "outputs": [
    {
     "name": "stdout",
     "output_type": "stream",
     "text": [
      "['c', '11.6980', '1.832']\n",
      "['PC', '-6.6638', '4.095']\n",
      "['PX', '11.0791', '8.481']\n",
      "['T', '-0.0383', '0.009']\n"
     ]
    }
   ],
   "source": [
    "coeff = [] # list to store coefficients. \n",
    "std = [] #list to store standard errors\n",
    "f = open('../data/estimate.txt') #open a file to be read. \n",
    "for i,line in enumerate(f):\n",
    "    if i > 0: #ignore the first line. \n",
    "        temp = line.rstrip().split(',') #get rid of the next line character and split the line into a list with ',' being the spliter. \n",
    "        print(temp) #optional, demonstrate what 'split' does.         \n",
    "        coeff.append([temp[0], temp[1]]) #store coefficient into coeff. \n",
    "        std.append(temp[2]) #store standard errors into std. \n",
    "f.close()\n",
    "    "
   ]
  },
  {
   "cell_type": "code",
   "execution_count": 34,
   "metadata": {
    "collapsed": false
   },
   "outputs": [
    {
     "data": {
      "text/plain": [
       "[['c', '11.6980'], ['PC', '-6.6638'], ['PX', '11.0791'], ['T', '-0.0383']]"
      ]
     },
     "execution_count": 34,
     "metadata": {},
     "output_type": "execute_result"
    }
   ],
   "source": [
    "coeff"
   ]
  },
  {
   "cell_type": "code",
   "execution_count": 35,
   "metadata": {
    "collapsed": false
   },
   "outputs": [
    {
     "data": {
      "text/plain": [
       "['1.832', '4.095', '8.481', '0.009']"
      ]
     },
     "execution_count": 35,
     "metadata": {},
     "output_type": "execute_result"
    }
   ],
   "source": [
    "std"
   ]
  },
  {
   "cell_type": "code",
   "execution_count": 40,
   "metadata": {
    "collapsed": false
   },
   "outputs": [],
   "source": [
    "final = []\n",
    "for i,c in enumerate(coeff):\n",
    "    final.append(c)\n",
    "    tempstd = '['+std[i]+']'\n",
    "    final.append([' ',tempstd])\n",
    "    "
   ]
  },
  {
   "cell_type": "code",
   "execution_count": 41,
   "metadata": {
    "collapsed": false
   },
   "outputs": [
    {
     "data": {
      "text/plain": [
       "[['c', '11.6980'],\n",
       " [' ', '[1.832]'],\n",
       " ['PC', '-6.6638'],\n",
       " [' ', '[4.095]'],\n",
       " ['PX', '11.0791'],\n",
       " [' ', '[8.481]'],\n",
       " ['T', '-0.0383'],\n",
       " [' ', '[0.009]']]"
      ]
     },
     "execution_count": 41,
     "metadata": {},
     "output_type": "execute_result"
    }
   ],
   "source": [
    "final"
   ]
  },
  {
   "cell_type": "markdown",
   "metadata": {},
   "source": [
    "Now we can write this back to a CSV! "
   ]
  },
  {
   "cell_type": "code",
   "execution_count": 39,
   "metadata": {
    "collapsed": false
   },
   "outputs": [],
   "source": [
    "s = '\\n'.join([','.join([i for i in l]) for l in final]) #turn this into a string\n",
    "f = open('../data/new_estimate.csv', 'w') #open a file to write\n",
    "f.write(s)\n",
    "f.close()"
   ]
  },
  {
   "cell_type": "markdown",
   "metadata": {},
   "source": [
    "Users Defined Functions\n",
    "-----------\n",
    "For a bigger task, we sometimes want to reuse some of the code without having to write the whole thing again and again. Users defined functions allow us to reuse a block of code. This also allows us to break a big tasks into multiple smaller tasks. \n",
    "\n",
    "One example is to turn our problem above into a function. Let's say we need to put the standard errors under the coefficients from multiple outputs. We can first define a function that will do the rearrangement of table, then we can use a loop to go through all the output files. \n",
    "\n",
    "We can do this by defining three different functions. The first one opens the file and store the coefficients and standard errors."
   ]
  },
  {
   "cell_type": "code",
   "execution_count": 29,
   "metadata": {
    "collapsed": true
   },
   "outputs": [],
   "source": [
    "def get_coef(filename):\n",
    "    coeff = [] # list to store coefficients. \n",
    "    std = [] #list to store standard errors\n",
    "    f = open(filename) #open a file to be read. \n",
    "    for i,line in enumerate(f):\n",
    "        if i > 0: #ignore the first line. \n",
    "            temp = line.rstrip().split(',') #get rid of the next line character and split the line into a list with ',' being the spliter. \n",
    "            coeff.append([temp[0], temp[1]]) #store coefficient into coeff. \n",
    "            std.append(temp[2]) #store standard errors into std. \n",
    "    f.close()\n",
    "    return coeff, std #returning the two lists. \n",
    "    "
   ]
  },
  {
   "cell_type": "code",
   "execution_count": 30,
   "metadata": {
    "collapsed": true
   },
   "outputs": [],
   "source": [
    "def put_under(coef, std):\n",
    "    final = [] #initiate the final list\n",
    "    for i,c in enumerate(coef): #loop through the coefficient list\n",
    "        final.append(c) #append the coefficints\n",
    "        tempstd = [' '] #initiate a list to stored the modified standard errors\n",
    "        temp = '('+std[i]+')' #put brackets around the stnadard errors\n",
    "        tempstd.append(temp) #add the modified standard error row into the list. \n",
    "        final.append(tempstd) #add a new row. \n",
    "    return final #return the double list."
   ]
  },
  {
   "cell_type": "code",
   "execution_count": 31,
   "metadata": {
    "collapsed": true
   },
   "outputs": [],
   "source": [
    "def writecsv(final, savefilename):\n",
    "    s = '\\n'.join([','.join([i for i in l]) for l in final]) #turn this into a string\n",
    "    f = open(savefilename, 'w') #open a file to write\n",
    "    f.write(s)\n",
    "    f.close()"
   ]
  },
  {
   "cell_type": "code",
   "execution_count": 32,
   "metadata": {
    "collapsed": true
   },
   "outputs": [],
   "source": [
    "def rearranging(filename, savefilename):\n",
    "    coef, std = get_coef(filename)\n",
    "    final = put_under(coef, std)\n",
    "    writecsv(final, savefilename)\n",
    "    return coef, std, final \n",
    "    "
   ]
  },
  {
   "cell_type": "markdown",
   "metadata": {},
   "source": [
    "Let's test this on one file. "
   ]
  },
  {
   "cell_type": "code",
   "execution_count": 33,
   "metadata": {
    "collapsed": false
   },
   "outputs": [
    {
     "data": {
      "text/plain": [
       "([['c', '11.6980'], ['PC', '-6.6638'], ['PX', '11.0791'], ['T', '-0.0383']],\n",
       " ['1.832', '4.095', '8.481', '0.009'],\n",
       " [['c', '11.6980'],\n",
       "  [' ', '(1.832)'],\n",
       "  ['PC', '-6.6638'],\n",
       "  [' ', '(4.095)'],\n",
       "  ['PX', '11.0791'],\n",
       "  [' ', '(8.481)'],\n",
       "  ['T', '-0.0383'],\n",
       "  [' ', '(0.009)']])"
      ]
     },
     "execution_count": 33,
     "metadata": {},
     "output_type": "execute_result"
    }
   ],
   "source": [
    "filename = '../data/estimate.txt'\n",
    "sfilename = '../data/save_est.csv'\n",
    "rearranging(filename, sfilename)"
   ]
  },
  {
   "cell_type": "markdown",
   "metadata": {},
   "source": [
    "Now, let's do it for all of them. \n",
    "First we generate all the filenames we need to apply the rearrangement for. "
   ]
  },
  {
   "cell_type": "code",
   "execution_count": 34,
   "metadata": {
    "collapsed": true
   },
   "outputs": [],
   "source": [
    "filelist = ['estimate'+str(i)+'.csv' for i in range(0,10)] #this is using list comprehension, which is a neat feature in Python\n",
    "#You can use a standard for-loop"
   ]
  },
  {
   "cell_type": "code",
   "execution_count": 35,
   "metadata": {
    "collapsed": false
   },
   "outputs": [
    {
     "data": {
      "text/plain": [
       "['estimate0.csv',\n",
       " 'estimate1.csv',\n",
       " 'estimate2.csv',\n",
       " 'estimate3.csv',\n",
       " 'estimate4.csv',\n",
       " 'estimate5.csv',\n",
       " 'estimate6.csv',\n",
       " 'estimate7.csv',\n",
       " 'estimate8.csv',\n",
       " 'estimate9.csv']"
      ]
     },
     "execution_count": 35,
     "metadata": {},
     "output_type": "execute_result"
    }
   ],
   "source": [
    "filelist"
   ]
  },
  {
   "cell_type": "markdown",
   "metadata": {},
   "source": [
    "then we generate a list of save file names"
   ]
  },
  {
   "cell_type": "code",
   "execution_count": 36,
   "metadata": {
    "collapsed": false
   },
   "outputs": [
    {
     "data": {
      "text/plain": [
       "['save_estimate0.csv',\n",
       " 'save_estimate1.csv',\n",
       " 'save_estimate2.csv',\n",
       " 'save_estimate3.csv',\n",
       " 'save_estimate4.csv',\n",
       " 'save_estimate5.csv',\n",
       " 'save_estimate6.csv',\n",
       " 'save_estimate7.csv',\n",
       " 'save_estimate8.csv',\n",
       " 'save_estimate9.csv']"
      ]
     },
     "execution_count": 36,
     "metadata": {},
     "output_type": "execute_result"
    }
   ],
   "source": [
    "savefilelist = ['save_'+i for i in filelist]\n",
    "savefilelist"
   ]
  },
  {
   "cell_type": "code",
   "execution_count": 37,
   "metadata": {
    "collapsed": false
   },
   "outputs": [],
   "source": [
    "path = '../data/' \n",
    "for i,fn in enumerate(filelist): #loop through each file in filelist\n",
    "    coef, std, final = rearranging(path+fn, path+savefilelist[i]) #apply modification to file and save it to a new file "
   ]
  },
  {
   "cell_type": "markdown",
   "metadata": {},
   "source": [
    "Appendix\n",
    "======\n",
    "The code below shows you how I generated the test files with the coefficient estimates and the standard errors."
   ]
  },
  {
   "cell_type": "code",
   "execution_count": 39,
   "metadata": {
    "collapsed": false
   },
   "outputs": [],
   "source": [
    "for i,var in enumerate(varlist): \n",
    "    tempm = benchmark+'+'+var #add variable 'var' into the specification. \n",
    "    tempsmf = smf.ols(tempm, data=m).fit() #estimate the new model. \n",
    "    header = [' ', 'coeffs','tstats']\n",
    "    final = [header]\n",
    "    for k, row in enumerate(tempsmf.model.exog_names):\n",
    "        temp = [row, tempsmf.params[k], tempsmf.tvalues[k]]\n",
    "        final.append(temp)\n",
    "    s = '\\n'.join([','.join([str(i) for i in l]) for l in final])\n",
    "    savefilename = '../data/estimate'+str(i)+'.csv'\n",
    "    f = open(savefilename, 'w')\n",
    "    f.write(s)\n",
    "    f.close()"
   ]
  },
  {
   "cell_type": "markdown",
   "metadata": {},
   "source": [
    "Regular Expression\n",
    "===============\n",
    "Regular expression is an extremely powerful representation of patterned text. It has a solid foundation in theoretical computer science and formal language theory. For our purposes, it allows us to search through textfile when what we are looking for may not be exact, but rather, contains different variations. An example may be hyper links or email address for a particular organisations. \n",
    "\n",
    "Most text editors provide regular expression support. It also makes find/replace fairly easy. \n",
    "\n",
    "The demonstration here barely touches the surface of what RE can do. The aim is to convince you that RE is a useful skill that worth learning. In one of the examples, it also demonstrates how Python can be used to download the HTML code behind webpages. Combine with RE, it allows us to collect data via webpage very efficiently. "
   ]
  },
  {
   "cell_type": "code",
   "execution_count": null,
   "metadata": {
    "collapsed": true
   },
   "outputs": [],
   "source": [
    "import re as re #import the regular expression module"
   ]
  },
  {
   "cell_type": "markdown",
   "metadata": {},
   "source": [
    "We start off by examining a data file first. "
   ]
  },
  {
   "cell_type": "code",
   "execution_count": null,
   "metadata": {
    "collapsed": false
   },
   "outputs": [],
   "source": [
    "m1 = pd.read_csv('../data/datastream_equities_201405.csv', header=0, index_col=0) #load data"
   ]
  },
  {
   "cell_type": "code",
   "execution_count": null,
   "metadata": {
    "collapsed": false
   },
   "outputs": [],
   "source": [
    "m1.head()"
   ]
  },
  {
   "cell_type": "markdown",
   "metadata": {},
   "source": [
    "Let's assume we only want observations on a particular date of every year. "
   ]
  },
  {
   "cell_type": "code",
   "execution_count": null,
   "metadata": {
    "collapsed": false
   },
   "outputs": [],
   "source": [
    "reexp = '^23/06/[0-9]{4}'\n",
    "re105 = re.compile(reexp)\n",
    "dlist = [i for i,e in enumerate(m1.index) if re105.search(e) is not None]\n",
    "sm = m1.iloc[dlist,:]"
   ]
  },
  {
   "cell_type": "code",
   "execution_count": null,
   "metadata": {
    "collapsed": false
   },
   "outputs": [],
   "source": [
    "sm"
   ]
  },
  {
   "cell_type": "markdown",
   "metadata": {},
   "source": [
    "Let's take a look how RE can work with text file. Let's say we want to extract all the hyperlinks in a particular HTML file called *temp.html*.\n",
    "\n",
    "We first define our regular expression, then we ask python to search through everyline in the file and return the line that contains a match. We save each of these lines in a list called *httplist*"
   ]
  },
  {
   "cell_type": "code",
   "execution_count": null,
   "metadata": {
    "collapsed": true
   },
   "outputs": [],
   "source": [
    "f = open('../data/temp.html')\n",
    "reexp = 'http.*/\"'\n",
    "rehttp = re.compile(reexp)\n",
    "httplist = [e for i,e in enumerate(f) if rehttp.search(e) is not None]\n",
    "f.close()    "
   ]
  },
  {
   "cell_type": "code",
   "execution_count": null,
   "metadata": {
    "collapsed": false
   },
   "outputs": [],
   "source": [
    "httplist"
   ]
  },
  {
   "cell_type": "markdown",
   "metadata": {},
   "source": [
    "That's good but the lines also contain all the other code. We would like to extract just the hyper link addresses. To do that, we utilise the attributes witin RE.search object. Attribute **regs** contains the starting and ending positions of the string that matches the regular expression. "
   ]
  },
  {
   "cell_type": "code",
   "execution_count": null,
   "metadata": {
    "collapsed": false
   },
   "outputs": [],
   "source": [
    "f = open('../data/temp.html')\n",
    "reexp1 = 'http.*/\"'\n",
    "rehttp1 = re.compile(reexp1)\n",
    "addresslist = []\n",
    "for i,e in enumerate(f):\n",
    "    temp = rehttp1.search(e)\n",
    "    if temp is not None:\n",
    "        start = temp.regs[0][0]\n",
    "        end = temp.regs[0][1]\n",
    "        addresslist.append(temp.string[start:end])\n",
    "f.close()  "
   ]
  },
  {
   "cell_type": "code",
   "execution_count": null,
   "metadata": {
    "collapsed": false
   },
   "outputs": [],
   "source": [
    "addresslist"
   ]
  },
  {
   "cell_type": "markdown",
   "metadata": {},
   "source": [
    "The address above combined both secured and not-secured link. Let's say we only want secure link. We can modify our regular expression to enusre there is no 's' after 'http'"
   ]
  },
  {
   "cell_type": "code",
   "execution_count": null,
   "metadata": {
    "collapsed": true
   },
   "outputs": [],
   "source": [
    "f = open('../data/temp.html')\n",
    "reexp2 = 'http[^s].*/\"'\n",
    "rehttp2 = re.compile(reexp2)\n",
    "addresslist = []\n",
    "for i,e in enumerate(f):\n",
    "    temp = rehttp3.search(e)\n",
    "    if temp is not None:\n",
    "        start = temp.regs[0][0]\n",
    "        end = temp.regs[0][1]\n",
    "        addresslist.append(temp.string[start:end])\n",
    "f.close()  "
   ]
  },
  {
   "cell_type": "code",
   "execution_count": null,
   "metadata": {
    "collapsed": false
   },
   "outputs": [],
   "source": [
    "addresslist"
   ]
  },
  {
   "cell_type": "code",
   "execution_count": null,
   "metadata": {
    "collapsed": true
   },
   "outputs": [],
   "source": [
    "f = open('../data/temp.html')\n",
    "reexp3 = 'http[^s].+economics-and-finance.*/\"'\n",
    "rehttp3 = re.compile(reexp3)\n",
    "addresslist = []\n",
    "for i,e in enumerate(f):\n",
    "    temp = rehttp3.search(e)\n",
    "    if temp is not None:\n",
    "        start = temp.regs[0][0]\n",
    "        end = temp.regs[0][1]\n",
    "        addresslist.append(temp.string[start:end])\n",
    "f.close()  "
   ]
  },
  {
   "cell_type": "code",
   "execution_count": null,
   "metadata": {
    "collapsed": false
   },
   "outputs": [],
   "source": [
    "addresslist"
   ]
  },
  {
   "cell_type": "markdown",
   "metadata": {},
   "source": [
    "Let's say we want to find the names of the people who work for the School of Economics and Finance.  \n",
    "In this case, we specify a web address, we then ask Python to download the HTML page. Then we extract the names of the people that were listed on the page. "
   ]
  },
  {
   "cell_type": "code",
   "execution_count": null,
   "metadata": {
    "collapsed": false
   },
   "outputs": [],
   "source": [
    "import urllib.request as ul\n",
    "\n",
    "furl = ul.urlopen(\"http://business.curtin.edu.au/schools-and-departments/economics-and-finance/our-people/\") #open a link to the HTML page. \n",
    "tempfile = \"temp02.html\" #The name of the file that we want to save the downloaded HTML. \n",
    "f = open(tempfile, 'w') #open a file to write.\n",
    "f.write(furl.read().decode('utf-8')) #Save the HTML file to tempfile. \n",
    "f.close()\n",
    "f = open(tempfile) #open the saved file for name extraction. \n",
    "re_name = re.compile(\"profile/view/[A-Za-z]+\\.[A-Za-z]+\") #define the regular expression. \n",
    "staffname = [] #initial the list to store the names. \n",
    "for i,line in enumerate(f):\n",
    "    temp = re_name.findall(line) \n",
    "    if len(temp) > 0:\n",
    "        temp1 = temp[0].split('/')\n",
    "        staffname.append(temp1[-1])\n",
    "f.close()\n",
    "firstname = [i.split(\".\")[0] for i in staffname]  #separating last name and first name. \n",
    "surename = [i.split(\".\")[1] for i in staffname]\n",
    "back = zip(firstname,surename)\n"
   ]
  },
  {
   "cell_type": "code",
   "execution_count": null,
   "metadata": {
    "collapsed": false
   },
   "outputs": [],
   "source": [
    "staffname"
   ]
  },
  {
   "cell_type": "markdown",
   "metadata": {
    "collapsed": true
   },
   "source": [
    "We have only just touched the surface of RE here. In fact, many implementations allow RE to have *conditional statement* and even *recursion* (a different form of loop). For more information, check out *[this site][regular]*. \n",
    "[regular]: http://www.regular-expressions.info/tutorial.html"
   ]
  },
  {
   "cell_type": "code",
   "execution_count": null,
   "metadata": {
    "collapsed": true
   },
   "outputs": [],
   "source": []
  }
 ],
 "metadata": {
  "kernelspec": {
   "display_name": "Python 3",
   "language": "python",
   "name": "python3"
  },
  "language_info": {
   "codemirror_mode": {
    "name": "ipython",
    "version": 3
   },
   "file_extension": ".py",
   "mimetype": "text/x-python",
   "name": "python",
   "nbconvert_exporter": "python",
   "pygments_lexer": "ipython3",
   "version": "3.5.2"
  }
 },
 "nbformat": 4,
 "nbformat_minor": 0
}
